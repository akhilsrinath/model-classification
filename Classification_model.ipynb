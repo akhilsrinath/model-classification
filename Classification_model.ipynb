{
  "nbformat": 4,
  "nbformat_minor": 0,
  "metadata": {
    "colab": {
      "name": "Classification_model.ipynb",
      "provenance": [],
      "toc_visible": true
    },
    "kernelspec": {
      "name": "python3",
      "display_name": "Python 3"
    },
    "language_info": {
      "name": "python"
    }
  },
  "cells": [
    {
      "cell_type": "markdown",
      "metadata": {
        "id": "4HkEz7MY_OqT"
      },
      "source": [
        "# **Building and deploying Machine Learning models**"
      ]
    },
    {
      "cell_type": "markdown",
      "metadata": {
        "id": "Gb5b1nuCAW2Y"
      },
      "source": [
        "## **Abstract**\n",
        "\n",
        "*'All models are wrong, but some are useful'*  - George Box\n",
        "\n",
        "The main motivation behind this project was to learn to work with data with no context and try and make sense out of it. We are presented with raw data that contains 15 independent features that are used to describe an instance of some observation. Each feature is labeled from 'A' to 'O'. We do not know what each feature means in terms of what the numbers represent. Another challenge was that the dataset itself was large and complex. With no evident correlations between the independent and the target variables. The count of each class label were not roughly equally distributed with more instances of one class label than the others. Furthermore, there was also not much scope to improve the quality of the data since there were not a lot of incosistencies and noise that could be removed in order to make better predictions. For example, the dataset had no missing values, few columns with outliers, and not much multicollinearity. \n",
        "\n",
        "Overall, I found this project to be very intriguing and it was interesting to explore how a model would take in raw data with no context and try to come up with predictions. I quickly learned that the accuracy would not tend to improve with simple models that would take the entire dataset as a whole and find functions to map the input with the output. It would take effort to find out how exactly what features are being used to describe the targets in the first place. Future scope for this project would include using domain knowledge on the different features to try and understand correlations and dependencies. Also, trying to use certain boosting techniques to try and improve the accuracy of relatively weaker models. Additionally, we could also tune the hyperparameters to change certain fitting characteristics in order to improve model performance."
      ]
    },
    {
      "cell_type": "markdown",
      "metadata": {
        "id": "jkWM85pnwdoi"
      },
      "source": [
        "## **Overview**\n",
        "\n",
        "***Problem Statement***: The main aim of the project is to develop a classification model pipeline that can be used to make predictions on out-of-sample data.\n",
        "\n",
        "***Relevant literature***: \n",
        "- *Anupama Jha, Meenu Dave, Supriya Madan*. \"Comparison of Binary Class and Multi-Class Classifier Using Different Data Mining Classification Techniques\", 2019, Proceedings of International Conference on Advancements in Computing & Management (ICACM) 2019 (https://papers.ssrn.com/sol3/papers.cfm?abstract_id=3464211) \n",
        "- *Salma Begum, Ramazan Aygun*. \"Greedy hierarchical binary classifiers for multi-class classification of biological data\", 2014, Network Modeling Analysis in Health Informatics and Bioinformatics. (https://www.researchgate.net/publication/271913431_Greedy_hierarchical_binary_classifiers_for_multi-class_classification_of_biological_data)\n",
        "- *Ana Carolina Lorena, Andréde Carvalho, João M. P. Gama*. \"A review on the combination of binary classifiers in multiclass problems\", Artificial Intelligence Review, 2009. (https://link.springer.com/article/10.1007s10462-009-9114-9)\n",
        "\n",
        "***Proposed methodology***: The data is first cleaned to remove any evident noise and inconsistencies that may hinder performance. Exploratory Data Analysis (EDA) is used to gather any relevant insights that might help in making the right decisions in terms of model selection and feature importance. The next step would be to assess the feature importance and try to reduce the dimensionality of the data. Principal Component Analysis (PCA) is performed on the dataset in order to reduce the data into 2 principal components that can be used to explain the variance and build a working model that can make decent predictions. The main thing to consider apart from just PCA is to convert the given multi-class classification problem into a set of binary classification tasks. That is, instead of building a model that can classify targets as either 1,2 or 3, we build binary classification models that can classify the data as either belonging to class 1 or not class 1, and class2 or not class 2, and class3 or not class 3. This way each model knows what kind of data belongs to each class type and they can then be combined to give us a model which has learned sets of inputs that can make predicitions on new data. "
      ]
    },
    {
      "cell_type": "markdown",
      "metadata": {
        "id": "aEJemk6QwbfP"
      },
      "source": [
        "## **Data Processing**"
      ]
    },
    {
      "cell_type": "markdown",
      "metadata": {
        "id": "O7d5R33IAPs1"
      },
      "source": [
        "### *Importing the libraries*"
      ]
    },
    {
      "cell_type": "code",
      "metadata": {
        "colab": {
          "base_uri": "https://localhost:8080/"
        },
        "id": "S0pDkYsEQaHu",
        "outputId": "982725a3-b372-40d6-b20e-1d5f0775bac7"
      },
      "source": [
        "!pip install sklearn2pmml\n",
        "!pip install skl2onnx\n",
        "!pip install onnxruntime"
      ],
      "execution_count": null,
      "outputs": [
        {
          "output_type": "stream",
          "text": [
            "Requirement already satisfied: sklearn2pmml in /usr/local/lib/python3.7/dist-packages (0.71.1)\n",
            "Requirement already satisfied: joblib>=0.13.0 in /usr/local/lib/python3.7/dist-packages (from sklearn2pmml) (1.0.1)\n",
            "Requirement already satisfied: sklearn-pandas>=0.0.10 in /usr/local/lib/python3.7/dist-packages (from sklearn2pmml) (1.8.0)\n",
            "Requirement already satisfied: scikit-learn>=0.18.0 in /usr/local/lib/python3.7/dist-packages (from sklearn2pmml) (0.22.2.post1)\n",
            "Requirement already satisfied: scipy>=0.14 in /usr/local/lib/python3.7/dist-packages (from sklearn-pandas>=0.0.10->sklearn2pmml) (1.4.1)\n",
            "Requirement already satisfied: numpy>=1.6.1 in /usr/local/lib/python3.7/dist-packages (from sklearn-pandas>=0.0.10->sklearn2pmml) (1.19.5)\n",
            "Requirement already satisfied: pandas>=0.11.0 in /usr/local/lib/python3.7/dist-packages (from sklearn-pandas>=0.0.10->sklearn2pmml) (1.1.5)\n",
            "Requirement already satisfied: python-dateutil>=2.7.3 in /usr/local/lib/python3.7/dist-packages (from pandas>=0.11.0->sklearn-pandas>=0.0.10->sklearn2pmml) (2.8.1)\n",
            "Requirement already satisfied: pytz>=2017.2 in /usr/local/lib/python3.7/dist-packages (from pandas>=0.11.0->sklearn-pandas>=0.0.10->sklearn2pmml) (2018.9)\n",
            "Requirement already satisfied: six>=1.5 in /usr/local/lib/python3.7/dist-packages (from python-dateutil>=2.7.3->pandas>=0.11.0->sklearn-pandas>=0.0.10->sklearn2pmml) (1.15.0)\n",
            "Collecting skl2onnx\n",
            "  Using cached https://files.pythonhosted.org/packages/2e/2e/efe7874c6b92ce4dd262b58a2860e9bf50097c68588114a542b29affca46/skl2onnx-1.8.0-py2.py3-none-any.whl\n",
            "Requirement already satisfied: scikit-learn>=0.19 in /usr/local/lib/python3.7/dist-packages (from skl2onnx) (0.22.2.post1)\n",
            "Requirement already satisfied: protobuf in /usr/local/lib/python3.7/dist-packages (from skl2onnx) (3.12.4)\n",
            "Collecting onnxconverter-common<1.9,>=1.6.1\n",
            "  Using cached https://files.pythonhosted.org/packages/42/f5/82c29029a643dd4de8e0374fe2d5831f50ca58623dd1ee41e0b8df8a7d71/onnxconverter_common-1.8.1-py2.py3-none-any.whl\n",
            "Requirement already satisfied: scipy>=1.0 in /usr/local/lib/python3.7/dist-packages (from skl2onnx) (1.4.1)\n",
            "Requirement already satisfied: numpy>=1.15 in /usr/local/lib/python3.7/dist-packages (from skl2onnx) (1.19.5)\n",
            "Requirement already satisfied: six in /usr/local/lib/python3.7/dist-packages (from skl2onnx) (1.15.0)\n",
            "Collecting onnx>=1.2.1\n",
            "  Using cached https://files.pythonhosted.org/packages/3f/9b/54c950d3256e27f970a83cd0504efb183a24312702deed0179453316dbd0/onnx-1.9.0-cp37-cp37m-manylinux2010_x86_64.whl\n",
            "Requirement already satisfied: joblib>=0.11 in /usr/local/lib/python3.7/dist-packages (from scikit-learn>=0.19->skl2onnx) (1.0.1)\n",
            "Requirement already satisfied: setuptools in /usr/local/lib/python3.7/dist-packages (from protobuf->skl2onnx) (56.0.0)\n",
            "Requirement already satisfied: typing-extensions>=3.6.2.1 in /usr/local/lib/python3.7/dist-packages (from onnx>=1.2.1->skl2onnx) (3.7.4.3)\n",
            "Installing collected packages: onnx, onnxconverter-common, skl2onnx\n",
            "Successfully installed onnx-1.9.0 onnxconverter-common-1.8.1 skl2onnx-1.8.0\n",
            "Collecting onnxruntime\n",
            "\u001b[?25l  Downloading https://files.pythonhosted.org/packages/0c/f0/666d6e3ceaa276a54e728f9972732e058544cbb6a3e1a778a8d6f87132c1/onnxruntime-1.7.0-cp37-cp37m-manylinux2014_x86_64.whl (4.1MB)\n",
            "\u001b[K     |████████████████████████████████| 4.1MB 5.3MB/s \n",
            "\u001b[?25hRequirement already satisfied: numpy>=1.16.6 in /usr/local/lib/python3.7/dist-packages (from onnxruntime) (1.19.5)\n",
            "Requirement already satisfied: protobuf in /usr/local/lib/python3.7/dist-packages (from onnxruntime) (3.12.4)\n",
            "Requirement already satisfied: setuptools in /usr/local/lib/python3.7/dist-packages (from protobuf->onnxruntime) (56.0.0)\n",
            "Requirement already satisfied: six>=1.9 in /usr/local/lib/python3.7/dist-packages (from protobuf->onnxruntime) (1.15.0)\n",
            "Installing collected packages: onnxruntime\n",
            "Successfully installed onnxruntime-1.7.0\n"
          ],
          "name": "stdout"
        }
      ]
    },
    {
      "cell_type": "code",
      "metadata": {
        "id": "g_fEbhQq-9sJ"
      },
      "source": [
        "import pandas as pd \n",
        "import numpy as np \n",
        "import matplotlib.pyplot as plt \n",
        "import seaborn as sns \n",
        "%matplotlib inline \n",
        "\n",
        "from sklearn import tree \n",
        "import graphviz \n",
        "from sklearn_pandas import DataFrameMapper\n",
        "from sklearn import decomposition\n",
        "\n",
        "from sklearn.impute import SimpleImputer\n",
        "from sklearn.preprocessing import StandardScaler\n",
        "from sklearn.feature_selection import SelectKBest\n",
        "from sklearn.model_selection import train_test_split\n",
        "from sklearn.linear_model import LogisticRegression\n",
        "from sklearn.tree import DecisionTreeClassifier\n",
        "from sklearn.ensemble import RandomForestClassifier\n",
        "from sklearn.naive_bayes import GaussianNB\n",
        "\n",
        "\n",
        "from sklearn.decomposition import PCA \n",
        "from sklearn.tree import DecisionTreeClassifier\n",
        "\n",
        "from sklearn.pipeline import Pipeline\n",
        "from sklearn2pmml.decoration import ContinuousDomain\n",
        "from sklearn2pmml.pipeline import PMMLPipeline\n",
        "from sklearn2pmml import sklearn2pmml\n",
        "\n",
        "from sklearn import metrics \n"
      ],
      "execution_count": null,
      "outputs": []
    },
    {
      "cell_type": "markdown",
      "metadata": {
        "id": "7Ent4s8zsaxZ"
      },
      "source": [
        "### *Importing the data*"
      ]
    },
    {
      "cell_type": "code",
      "metadata": {
        "colab": {
          "base_uri": "https://localhost:8080/",
          "height": 224
        },
        "id": "uv9olJaV_Mgi",
        "outputId": "13f4cc1c-57f7-462f-b646-19527c5d53ec"
      },
      "source": [
        "df = pd.read_csv('/content/drive/MyDrive/Datasets/data_public.csv.gz', compression='gzip', header=0, sep=',', quotechar='\"')\n",
        "df.head()"
      ],
      "execution_count": null,
      "outputs": [
        {
          "output_type": "execute_result",
          "data": {
            "text/html": [
              "<div>\n",
              "<style scoped>\n",
              "    .dataframe tbody tr th:only-of-type {\n",
              "        vertical-align: middle;\n",
              "    }\n",
              "\n",
              "    .dataframe tbody tr th {\n",
              "        vertical-align: top;\n",
              "    }\n",
              "\n",
              "    .dataframe thead th {\n",
              "        text-align: right;\n",
              "    }\n",
              "</style>\n",
              "<table border=\"1\" class=\"dataframe\">\n",
              "  <thead>\n",
              "    <tr style=\"text-align: right;\">\n",
              "      <th></th>\n",
              "      <th>A</th>\n",
              "      <th>B</th>\n",
              "      <th>C</th>\n",
              "      <th>D</th>\n",
              "      <th>E</th>\n",
              "      <th>F</th>\n",
              "      <th>G</th>\n",
              "      <th>H</th>\n",
              "      <th>I</th>\n",
              "      <th>J</th>\n",
              "      <th>K</th>\n",
              "      <th>L</th>\n",
              "      <th>M</th>\n",
              "      <th>N</th>\n",
              "      <th>O</th>\n",
              "      <th>Class</th>\n",
              "    </tr>\n",
              "  </thead>\n",
              "  <tbody>\n",
              "    <tr>\n",
              "      <th>0</th>\n",
              "      <td>231.420023</td>\n",
              "      <td>-12.210984</td>\n",
              "      <td>217.624839</td>\n",
              "      <td>-15.611916</td>\n",
              "      <td>140.047185</td>\n",
              "      <td>76.904999</td>\n",
              "      <td>131.591871</td>\n",
              "      <td>198.160805</td>\n",
              "      <td>82.873279</td>\n",
              "      <td>127.350084</td>\n",
              "      <td>224.592926</td>\n",
              "      <td>-5.992983</td>\n",
              "      <td>-14.689648</td>\n",
              "      <td>143.072058</td>\n",
              "      <td>153.439659</td>\n",
              "      <td>2</td>\n",
              "    </tr>\n",
              "    <tr>\n",
              "      <th>1</th>\n",
              "      <td>-38.019270</td>\n",
              "      <td>-14.195695</td>\n",
              "      <td>9.583547</td>\n",
              "      <td>22.293822</td>\n",
              "      <td>-25.578283</td>\n",
              "      <td>-18.373955</td>\n",
              "      <td>-0.094457</td>\n",
              "      <td>-33.711852</td>\n",
              "      <td>-8.356041</td>\n",
              "      <td>23.792402</td>\n",
              "      <td>4.199023</td>\n",
              "      <td>2.809159</td>\n",
              "      <td>-59.330681</td>\n",
              "      <td>-11.685950</td>\n",
              "      <td>1.317104</td>\n",
              "      <td>3</td>\n",
              "    </tr>\n",
              "    <tr>\n",
              "      <th>2</th>\n",
              "      <td>-39.197085</td>\n",
              "      <td>-20.418850</td>\n",
              "      <td>21.023083</td>\n",
              "      <td>19.790280</td>\n",
              "      <td>-25.902587</td>\n",
              "      <td>-19.189004</td>\n",
              "      <td>-2.953836</td>\n",
              "      <td>-25.299219</td>\n",
              "      <td>-6.612401</td>\n",
              "      <td>26.285392</td>\n",
              "      <td>5.911292</td>\n",
              "      <td>6.191587</td>\n",
              "      <td>-56.924996</td>\n",
              "      <td>-4.675187</td>\n",
              "      <td>-1.027830</td>\n",
              "      <td>2</td>\n",
              "    </tr>\n",
              "    <tr>\n",
              "      <th>3</th>\n",
              "      <td>221.630408</td>\n",
              "      <td>-5.785352</td>\n",
              "      <td>216.725322</td>\n",
              "      <td>-9.900781</td>\n",
              "      <td>126.795177</td>\n",
              "      <td>85.122288</td>\n",
              "      <td>108.857593</td>\n",
              "      <td>197.640135</td>\n",
              "      <td>82.560019</td>\n",
              "      <td>157.105143</td>\n",
              "      <td>212.989231</td>\n",
              "      <td>-3.621070</td>\n",
              "      <td>-15.469156</td>\n",
              "      <td>135.265859</td>\n",
              "      <td>149.212489</td>\n",
              "      <td>2</td>\n",
              "    </tr>\n",
              "    <tr>\n",
              "      <th>4</th>\n",
              "      <td>228.558412</td>\n",
              "      <td>-12.447710</td>\n",
              "      <td>204.637218</td>\n",
              "      <td>-13.277704</td>\n",
              "      <td>138.930529</td>\n",
              "      <td>91.101870</td>\n",
              "      <td>115.598954</td>\n",
              "      <td>209.300011</td>\n",
              "      <td>89.961688</td>\n",
              "      <td>130.299732</td>\n",
              "      <td>201.795100</td>\n",
              "      <td>-1.573922</td>\n",
              "      <td>-15.128603</td>\n",
              "      <td>148.368622</td>\n",
              "      <td>147.492663</td>\n",
              "      <td>3</td>\n",
              "    </tr>\n",
              "  </tbody>\n",
              "</table>\n",
              "</div>"
            ],
            "text/plain": [
              "            A          B           C  ...           N           O  Class\n",
              "0  231.420023 -12.210984  217.624839  ...  143.072058  153.439659      2\n",
              "1  -38.019270 -14.195695    9.583547  ...  -11.685950    1.317104      3\n",
              "2  -39.197085 -20.418850   21.023083  ...   -4.675187   -1.027830      2\n",
              "3  221.630408  -5.785352  216.725322  ...  135.265859  149.212489      2\n",
              "4  228.558412 -12.447710  204.637218  ...  148.368622  147.492663      3\n",
              "\n",
              "[5 rows x 16 columns]"
            ]
          },
          "metadata": {
            "tags": []
          },
          "execution_count": 3
        }
      ]
    },
    {
      "cell_type": "code",
      "metadata": {
        "colab": {
          "base_uri": "https://localhost:8080/"
        },
        "id": "X_ohI-jouXLD",
        "outputId": "c83511e9-2087-43ab-a726-c7a8ec6af6c7"
      },
      "source": [
        "df['Class'].unique()"
      ],
      "execution_count": null,
      "outputs": [
        {
          "output_type": "execute_result",
          "data": {
            "text/plain": [
              "array([2, 3, 1])"
            ]
          },
          "metadata": {
            "tags": []
          },
          "execution_count": 4
        }
      ]
    },
    {
      "cell_type": "code",
      "metadata": {
        "colab": {
          "base_uri": "https://localhost:8080/"
        },
        "id": "aTSgiKCBuqv-",
        "outputId": "03206484-2c42-4d3e-8557-45645ec46760"
      },
      "source": [
        "len(df)"
      ],
      "execution_count": null,
      "outputs": [
        {
          "output_type": "execute_result",
          "data": {
            "text/plain": [
              "1200000"
            ]
          },
          "metadata": {
            "tags": []
          },
          "execution_count": 5
        }
      ]
    },
    {
      "cell_type": "markdown",
      "metadata": {
        "id": "F1Wg6wZzBSUD"
      },
      "source": [
        "A quick glance of our dataset reveals the following : \n",
        "- We have 15 independent variables (A-O) that are being used to describe which class a particular record(row) belongs to.\n",
        "- Each row of the data is classified into one of three unique class labels (1,2 and 3) \n",
        "- We have a total of 1200000 unique instances or records in our dataset.\n",
        "\n",
        "Our goal is to build a predictive model whose taks is approximating the mapping function from the independent variables and the target class. The main goal is to identify which class/label a new data instance would fall into. \n",
        "\n",
        "We do this using a Pipeline built from Scikit-Learn. The purpose of the pipeline is to combine the different steps of processing, model-building and model-testing into one operation. It also allows for hypermater tuning in order to improve the accuracy of our results. Our pipeline will consist of the following steps : \n",
        "- Scaling the data \n",
        "- Principal Component Analysis (PCA)\n",
        "- Building the classification model \n",
        "- Testing its accuracy \n"
      ]
    },
    {
      "cell_type": "code",
      "metadata": {
        "colab": {
          "base_uri": "https://localhost:8080/"
        },
        "id": "gpg3CBI83ubt",
        "outputId": "6d800ef1-89cb-4af0-b279-c499af2e2666"
      },
      "source": [
        "## Building a simple pipeline without any preprocessing \n",
        "\n",
        "X = df.drop(['Class'], axis=1)\n",
        "y = df['Class']\n",
        "\n",
        "X_train, X_test, y_train, y_test = train_test_split(X,y,stratify=y, test_size=0.2)\n",
        "\n",
        "# pipeline steps :\n",
        "#1. Scaling the data \n",
        "#2. Pricipal Component Analysis \n",
        "#3. Building a Decision Tree model \n",
        "#4. Testing accuracy\n",
        "\n",
        "pipeline_dt=Pipeline([('scalar',StandardScaler()),\n",
        "                     ('pca',PCA(n_components=2)),\n",
        "                     ('dt_classifier',DecisionTreeClassifier(max_depth=3))])    \n",
        "\n",
        "pipeline_dt.fit(X_train, y_train)\n",
        "pipeline_dt.score(X_test, y_test)     # accuracy"
      ],
      "execution_count": null,
      "outputs": [
        {
          "output_type": "execute_result",
          "data": {
            "text/plain": [
              "0.4993172603290554"
            ]
          },
          "metadata": {
            "tags": []
          },
          "execution_count": 18
        }
      ]
    },
    {
      "cell_type": "markdown",
      "metadata": {
        "id": "5hoazgSHuzXT"
      },
      "source": [
        "Let us try and improve on this model by first preprocessing our data. "
      ]
    },
    {
      "cell_type": "markdown",
      "metadata": {
        "id": "-JOLnWjnvivO"
      },
      "source": [
        "### *Preprocessing our data*"
      ]
    },
    {
      "cell_type": "markdown",
      "metadata": {
        "id": "KDXlEcYlxFeb"
      },
      "source": [
        "What we aim to do from preprocessing the data is check for certain inconsistencies such as missing values in the data, attributes lacking interest, noisy data, outliers, handling categorical values, etc. \n",
        "\n",
        "We also use Exploratory Data Analysis(EDA), a complement to inferential statistics which looks to describe the dataset using visualizaitons and other key performance statistics and then summarizing it to gather more insights into our data. This will help aid the model building process by helping us understand what the best hyperparameters would be and which model would be best suited for prediction. \n",
        "\n",
        "We will perform the following steps in order to preprocess our data : \n",
        "- Exploratory Data Analysis \n",
        "- Removing duplicates \n",
        "- Handling missing values \n",
        "- Outlier treatment \n",
        "- Normalizing and Scaling \n",
        "- Encoding categorical variables \n",
        "- Bivariate analysis \n",
        "- Splitting the data into train and test sets "
      ]
    },
    {
      "cell_type": "code",
      "metadata": {
        "colab": {
          "base_uri": "https://localhost:8080/"
        },
        "id": "h3PkAnMnysnt",
        "outputId": "5ace08d5-cd8f-44d8-d3b4-58de0cab1de1"
      },
      "source": [
        "## Exploratory Data Analysis \n",
        "\n",
        "df.info()"
      ],
      "execution_count": null,
      "outputs": [
        {
          "output_type": "stream",
          "text": [
            "<class 'pandas.core.frame.DataFrame'>\n",
            "RangeIndex: 1200000 entries, 0 to 1199999\n",
            "Data columns (total 16 columns):\n",
            " #   Column  Non-Null Count    Dtype  \n",
            "---  ------  --------------    -----  \n",
            " 0   A       1200000 non-null  float64\n",
            " 1   B       1200000 non-null  float64\n",
            " 2   C       1200000 non-null  float64\n",
            " 3   D       1200000 non-null  float64\n",
            " 4   E       1200000 non-null  float64\n",
            " 5   F       1200000 non-null  float64\n",
            " 6   G       1200000 non-null  float64\n",
            " 7   H       1200000 non-null  float64\n",
            " 8   I       1200000 non-null  float64\n",
            " 9   J       1200000 non-null  float64\n",
            " 10  K       1200000 non-null  float64\n",
            " 11  L       1200000 non-null  float64\n",
            " 12  M       1200000 non-null  float64\n",
            " 13  N       1200000 non-null  float64\n",
            " 14  O       1200000 non-null  float64\n",
            " 15  Class   1200000 non-null  int64  \n",
            "dtypes: float64(15), int64(1)\n",
            "memory usage: 146.5 MB\n"
          ],
          "name": "stdout"
        }
      ]
    },
    {
      "cell_type": "markdown",
      "metadata": {
        "id": "WrA_zTnGzPfx"
      },
      "source": [
        "We notice that all the indpendent variables in our dataset are floating point numbers and our class label is an integer. There is no requirement to handle data points of an unexpected data type. "
      ]
    },
    {
      "cell_type": "code",
      "metadata": {
        "colab": {
          "base_uri": "https://localhost:8080/"
        },
        "id": "re2IhKqkzxGh",
        "outputId": "f8e1f509-0d9b-4f5b-eb29-b566e61eabc2"
      },
      "source": [
        "## checking for missing data \n",
        "\n",
        "df.isnull().any()"
      ],
      "execution_count": null,
      "outputs": [
        {
          "output_type": "execute_result",
          "data": {
            "text/plain": [
              "A        False\n",
              "B        False\n",
              "C        False\n",
              "D        False\n",
              "E        False\n",
              "F        False\n",
              "G        False\n",
              "H        False\n",
              "I        False\n",
              "J        False\n",
              "K        False\n",
              "L        False\n",
              "M        False\n",
              "N        False\n",
              "O        False\n",
              "Class    False\n",
              "dtype: bool"
            ]
          },
          "metadata": {
            "tags": []
          },
          "execution_count": 6
        }
      ]
    },
    {
      "cell_type": "markdown",
      "metadata": {
        "id": "i5E_JmqGz11y"
      },
      "source": [
        "We find no missing data present in our dataset. However, to be sure, let us also check if there are any special characters present in the data which may cause discrepencies. "
      ]
    },
    {
      "cell_type": "code",
      "metadata": {
        "colab": {
          "base_uri": "https://localhost:8080/"
        },
        "id": "3CfCL2L91f8O",
        "outputId": "018786aa-b055-4761-e081-497a35b86fc8"
      },
      "source": [
        "import string\n",
        "alphabet = string.ascii_letters+string.punctuation\n",
        "\n",
        "df.columns.str.strip(alphabet).astype(bool).any()\n"
      ],
      "execution_count": null,
      "outputs": [
        {
          "output_type": "execute_result",
          "data": {
            "text/plain": [
              "False"
            ]
          },
          "metadata": {
            "tags": []
          },
          "execution_count": 7
        }
      ]
    },
    {
      "cell_type": "markdown",
      "metadata": {
        "id": "zwice5aG1kv1"
      },
      "source": [
        "We can conclude that the data does not contain any missing values or  special characters. "
      ]
    },
    {
      "cell_type": "code",
      "metadata": {
        "colab": {
          "base_uri": "https://localhost:8080/"
        },
        "id": "uVn1QLWM1yfz",
        "outputId": "8a408a9b-815e-4a85-d7e1-706d754fd33f"
      },
      "source": [
        "## Check for duplicate values \n",
        "duplicate = df.duplicated()\n",
        "duplicate.sum()"
      ],
      "execution_count": null,
      "outputs": [
        {
          "output_type": "execute_result",
          "data": {
            "text/plain": [
              "0"
            ]
          },
          "metadata": {
            "tags": []
          },
          "execution_count": 8
        }
      ]
    },
    {
      "cell_type": "markdown",
      "metadata": {
        "id": "iByblB0k8J0j"
      },
      "source": [
        "There aren't any duplicate values either. So far, so good. "
      ]
    },
    {
      "cell_type": "markdown",
      "metadata": {
        "id": "wZt0nK_TFoHA"
      },
      "source": [
        "Outliers are data points that don't belong to a particular population. They are abnormal observations that lie beyond the range of the other values in the population. \n",
        "\n",
        "Identifying outliers using the inter-quartile range(IQR) :\n",
        "The interquartile range (IQR) is a measure of statistical dispersion. We calculate the IQR by finding the difference between the 75th and the 25th percentiles. It is formally written as IQR = Q3 - Q1, where Q3 is the 75th percentile and Q1 is the 25th percentile.  \n",
        "\n"
      ]
    },
    {
      "cell_type": "code",
      "metadata": {
        "colab": {
          "base_uri": "https://localhost:8080/"
        },
        "id": "NbirSS8K8PrF",
        "outputId": "57e9e641-1b51-4cb5-aa44-7109f5f6de95"
      },
      "source": [
        "## check for outliers \n",
        "\n",
        "Q1 = df.quantile(0.25)\n",
        "Q3 = df.quantile(0.75)\n",
        "IQR = Q3 - Q1\n",
        "\n",
        "((df < (Q1 - 1.5 * IQR)) | (df > (Q3 + 1.5 * IQR))).sum()\n"
      ],
      "execution_count": null,
      "outputs": [
        {
          "output_type": "execute_result",
          "data": {
            "text/plain": [
              "A             0\n",
              "B        200297\n",
              "C             0\n",
              "D        200103\n",
              "E             0\n",
              "F             0\n",
              "G             0\n",
              "H             0\n",
              "I             0\n",
              "J             0\n",
              "K             0\n",
              "L        198365\n",
              "M             0\n",
              "N             0\n",
              "O             0\n",
              "Class         0\n",
              "dtype: int64"
            ]
          },
          "metadata": {
            "tags": []
          },
          "execution_count": 9
        }
      ]
    },
    {
      "cell_type": "markdown",
      "metadata": {
        "id": "lP1Xh9tD-Q1K"
      },
      "source": [
        "We find that the 'B', 'D' and 'L' columns contain outliers in them that need to be treated before proceeding to build the actual model. We can visualize these outliers using boxplots. "
      ]
    },
    {
      "cell_type": "markdown",
      "metadata": {
        "id": "Ho4hkSA6EvBz"
      },
      "source": [
        "![image.png](data:image/png;base64,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)"
      ]
    },
    {
      "cell_type": "markdown",
      "metadata": {
        "id": "yBQrqMnG4n9k"
      },
      "source": [
        "Image source : https://naysan.ca/2020/06/28/interquartile-range-iqr-to-detect-outliers/"
      ]
    },
    {
      "cell_type": "code",
      "metadata": {
        "colab": {
          "base_uri": "https://localhost:8080/",
          "height": 282
        },
        "id": "3n2a_jnMJkDp",
        "outputId": "fe4f7805-8b3b-4475-8e13-f45ac9bb0492"
      },
      "source": [
        "## Visualizing the outliers \n",
        "\n",
        "box_dict = {'B': list(df['B']), 'D': list(df['D']), 'L':list(df['L'])}\n",
        "\n",
        "fig, ax = plt.subplots()\n",
        "ax.boxplot(box_dict.values())\n",
        "ax.set_xticklabels(box_dict.keys())"
      ],
      "execution_count": null,
      "outputs": [
        {
          "output_type": "execute_result",
          "data": {
            "text/plain": [
              "[Text(0, 0, 'B'), Text(0, 0, 'D'), Text(0, 0, 'L')]"
            ]
          },
          "metadata": {
            "tags": []
          },
          "execution_count": 10
        },
        {
          "output_type": "display_data",
          "data": {
            "image/png": "[encoded data removed]",
            "text/plain": [
              "<Figure size 432x288 with 1 Axes>"
            ]
          },
          "metadata": {
            "tags": [],
            "needs_background": "light"
          }
        }
      ]
    },
    {
      "cell_type": "markdown",
      "metadata": {
        "id": "zYLGEOZkJ75a"
      },
      "source": [
        "In contrast, if we visualize a column without any outlier values, we get: "
      ]
    },
    {
      "cell_type": "code",
      "metadata": {
        "colab": {
          "base_uri": "https://localhost:8080/",
          "height": 279
        },
        "id": "dbpAWx39KJMl",
        "outputId": "e362149e-7a61-4fb5-df53-ab323d6b0191"
      },
      "source": [
        "plt.boxplot(df['C'])\n",
        "plt.xlabel('C')\n",
        "plt.show()"
      ],
      "execution_count": null,
      "outputs": [
        {
          "output_type": "display_data",
          "data": {
            "image/png": "[encoded data removed]",
            "text/plain": [
              "<Figure size 432x288 with 1 Axes>"
            ]
          },
          "metadata": {
            "tags": [],
            "needs_background": "light"
          }
        }
      ]
    },
    {
      "cell_type": "code",
      "metadata": {
        "colab": {
          "base_uri": "https://localhost:8080/"
        },
        "id": "dv7iivUuKM8D",
        "outputId": "75e09b52-e7a4-43ff-9e02-738378e5fe1a"
      },
      "source": [
        "## Dropping rows with ouliers \n",
        "\n",
        "len(df)   # Initial lengths "
      ],
      "execution_count": null,
      "outputs": [
        {
          "output_type": "execute_result",
          "data": {
            "text/plain": [
              "1200000"
            ]
          },
          "metadata": {
            "tags": []
          },
          "execution_count": 12
        }
      ]
    },
    {
      "cell_type": "code",
      "metadata": {
        "colab": {
          "base_uri": "https://localhost:8080/"
        },
        "id": "bJWYqabWNqWN",
        "outputId": "3f34533c-313a-4aeb-ddb2-19e339bcde5c"
      },
      "source": [
        "from scipy import stats\n",
        "df = df[(np.abs(stats.zscore(df)) < 3).all(axis=1)]\n",
        "\n",
        "len(df)     # Length after dropping rows that are outliers "
      ],
      "execution_count": null,
      "outputs": [
        {
          "output_type": "execute_result",
          "data": {
            "text/plain": [
              "1193716"
            ]
          },
          "metadata": {
            "tags": []
          },
          "execution_count": 13
        }
      ]
    },
    {
      "cell_type": "markdown",
      "metadata": {
        "id": "eUOxxOmg3O9k"
      },
      "source": [
        "Let us now explore if there is any correlation between our variables that might help with feature extraction. "
      ]
    },
    {
      "cell_type": "code",
      "metadata": {
        "colab": {
          "base_uri": "https://localhost:8080/",
          "height": 565
        },
        "id": "mQfk88XgN5c0",
        "outputId": "273d8d06-2ad5-4307-e623-2266200406f7"
      },
      "source": [
        "## Bivariate analysis \n",
        "\n",
        "df.corr()"
      ],
      "execution_count": null,
      "outputs": [
        {
          "output_type": "execute_result",
          "data": {
            "text/html": [
              "<div>\n",
              "<style scoped>\n",
              "    .dataframe tbody tr th:only-of-type {\n",
              "        vertical-align: middle;\n",
              "    }\n",
              "\n",
              "    .dataframe tbody tr th {\n",
              "        vertical-align: top;\n",
              "    }\n",
              "\n",
              "    .dataframe thead th {\n",
              "        text-align: right;\n",
              "    }\n",
              "</style>\n",
              "<table border=\"1\" class=\"dataframe\">\n",
              "  <thead>\n",
              "    <tr style=\"text-align: right;\">\n",
              "      <th></th>\n",
              "      <th>A</th>\n",
              "      <th>B</th>\n",
              "      <th>C</th>\n",
              "      <th>D</th>\n",
              "      <th>E</th>\n",
              "      <th>F</th>\n",
              "      <th>G</th>\n",
              "      <th>H</th>\n",
              "      <th>I</th>\n",
              "      <th>J</th>\n",
              "      <th>K</th>\n",
              "      <th>L</th>\n",
              "      <th>M</th>\n",
              "      <th>N</th>\n",
              "      <th>O</th>\n",
              "      <th>Class</th>\n",
              "    </tr>\n",
              "  </thead>\n",
              "  <tbody>\n",
              "    <tr>\n",
              "      <th>A</th>\n",
              "      <td>1.000000</td>\n",
              "      <td>0.454636</td>\n",
              "      <td>0.992084</td>\n",
              "      <td>0.062652</td>\n",
              "      <td>0.990852</td>\n",
              "      <td>0.906120</td>\n",
              "      <td>0.972511</td>\n",
              "      <td>0.988997</td>\n",
              "      <td>0.822571</td>\n",
              "      <td>0.870842</td>\n",
              "      <td>0.969454</td>\n",
              "      <td>0.131911</td>\n",
              "      <td>0.959287</td>\n",
              "      <td>0.954066</td>\n",
              "      <td>0.922130</td>\n",
              "      <td>-0.000639</td>\n",
              "    </tr>\n",
              "    <tr>\n",
              "      <th>B</th>\n",
              "      <td>0.454636</td>\n",
              "      <td>1.000000</td>\n",
              "      <td>0.539903</td>\n",
              "      <td>0.863770</td>\n",
              "      <td>0.352570</td>\n",
              "      <td>0.758991</td>\n",
              "      <td>0.618514</td>\n",
              "      <td>0.339316</td>\n",
              "      <td>-0.093470</td>\n",
              "      <td>0.801862</td>\n",
              "      <td>0.247264</td>\n",
              "      <td>0.852674</td>\n",
              "      <td>0.344671</td>\n",
              "      <td>0.196055</td>\n",
              "      <td>0.101499</td>\n",
              "      <td>0.000082</td>\n",
              "    </tr>\n",
              "    <tr>\n",
              "      <th>C</th>\n",
              "      <td>0.992084</td>\n",
              "      <td>0.539903</td>\n",
              "      <td>1.000000</td>\n",
              "      <td>0.166794</td>\n",
              "      <td>0.972275</td>\n",
              "      <td>0.943775</td>\n",
              "      <td>0.988382</td>\n",
              "      <td>0.968884</td>\n",
              "      <td>0.758824</td>\n",
              "      <td>0.916090</td>\n",
              "      <td>0.939054</td>\n",
              "      <td>0.230286</td>\n",
              "      <td>0.941695</td>\n",
              "      <td>0.918232</td>\n",
              "      <td>0.876472</td>\n",
              "      <td>-0.000710</td>\n",
              "    </tr>\n",
              "    <tr>\n",
              "      <th>D</th>\n",
              "      <td>0.062652</td>\n",
              "      <td>0.863770</td>\n",
              "      <td>0.166794</td>\n",
              "      <td>1.000000</td>\n",
              "      <td>-0.054903</td>\n",
              "      <td>0.467826</td>\n",
              "      <td>0.269441</td>\n",
              "      <td>-0.069713</td>\n",
              "      <td>-0.503776</td>\n",
              "      <td>0.535538</td>\n",
              "      <td>-0.169624</td>\n",
              "      <td>0.948694</td>\n",
              "      <td>-0.049328</td>\n",
              "      <td>-0.223034</td>\n",
              "      <td>-0.320017</td>\n",
              "      <td>0.000120</td>\n",
              "    </tr>\n",
              "    <tr>\n",
              "      <th>E</th>\n",
              "      <td>0.990852</td>\n",
              "      <td>0.352570</td>\n",
              "      <td>0.972275</td>\n",
              "      <td>-0.054903</td>\n",
              "      <td>1.000000</td>\n",
              "      <td>0.850749</td>\n",
              "      <td>0.940575</td>\n",
              "      <td>0.997125</td>\n",
              "      <td>0.881999</td>\n",
              "      <td>0.807484</td>\n",
              "      <td>0.989395</td>\n",
              "      <td>0.019809</td>\n",
              "      <td>0.965000</td>\n",
              "      <td>0.980315</td>\n",
              "      <td>0.959836</td>\n",
              "      <td>-0.000665</td>\n",
              "    </tr>\n",
              "    <tr>\n",
              "      <th>F</th>\n",
              "      <td>0.906120</td>\n",
              "      <td>0.758991</td>\n",
              "      <td>0.943775</td>\n",
              "      <td>0.467826</td>\n",
              "      <td>0.850749</td>\n",
              "      <td>1.000000</td>\n",
              "      <td>0.969074</td>\n",
              "      <td>0.842980</td>\n",
              "      <td>0.516271</td>\n",
              "      <td>0.989771</td>\n",
              "      <td>0.784333</td>\n",
              "      <td>0.509705</td>\n",
              "      <td>0.825272</td>\n",
              "      <td>0.748627</td>\n",
              "      <td>0.680245</td>\n",
              "      <td>-0.000583</td>\n",
              "    </tr>\n",
              "    <tr>\n",
              "      <th>G</th>\n",
              "      <td>0.972511</td>\n",
              "      <td>0.618514</td>\n",
              "      <td>0.988382</td>\n",
              "      <td>0.269441</td>\n",
              "      <td>0.940575</td>\n",
              "      <td>0.969074</td>\n",
              "      <td>1.000000</td>\n",
              "      <td>0.935683</td>\n",
              "      <td>0.684461</td>\n",
              "      <td>0.949428</td>\n",
              "      <td>0.895900</td>\n",
              "      <td>0.326233</td>\n",
              "      <td>0.911413</td>\n",
              "      <td>0.869890</td>\n",
              "      <td>0.818797</td>\n",
              "      <td>-0.000496</td>\n",
              "    </tr>\n",
              "    <tr>\n",
              "      <th>H</th>\n",
              "      <td>0.988997</td>\n",
              "      <td>0.339316</td>\n",
              "      <td>0.968884</td>\n",
              "      <td>-0.069713</td>\n",
              "      <td>0.997125</td>\n",
              "      <td>0.842980</td>\n",
              "      <td>0.935683</td>\n",
              "      <td>1.000000</td>\n",
              "      <td>0.888713</td>\n",
              "      <td>0.798734</td>\n",
              "      <td>0.991014</td>\n",
              "      <td>0.005675</td>\n",
              "      <td>0.964863</td>\n",
              "      <td>0.982734</td>\n",
              "      <td>0.963728</td>\n",
              "      <td>-0.000684</td>\n",
              "    </tr>\n",
              "    <tr>\n",
              "      <th>I</th>\n",
              "      <td>0.822571</td>\n",
              "      <td>-0.093470</td>\n",
              "      <td>0.758824</td>\n",
              "      <td>-0.503776</td>\n",
              "      <td>0.881999</td>\n",
              "      <td>0.516271</td>\n",
              "      <td>0.684461</td>\n",
              "      <td>0.888713</td>\n",
              "      <td>1.000000</td>\n",
              "      <td>0.448026</td>\n",
              "      <td>0.927925</td>\n",
              "      <td>-0.418360</td>\n",
              "      <td>0.851813</td>\n",
              "      <td>0.944620</td>\n",
              "      <td>0.971547</td>\n",
              "      <td>-0.000756</td>\n",
              "    </tr>\n",
              "    <tr>\n",
              "      <th>J</th>\n",
              "      <td>0.870842</td>\n",
              "      <td>0.801862</td>\n",
              "      <td>0.916090</td>\n",
              "      <td>0.535538</td>\n",
              "      <td>0.807484</td>\n",
              "      <td>0.989771</td>\n",
              "      <td>0.949428</td>\n",
              "      <td>0.798734</td>\n",
              "      <td>0.448026</td>\n",
              "      <td>1.000000</td>\n",
              "      <td>0.733811</td>\n",
              "      <td>0.571380</td>\n",
              "      <td>0.783634</td>\n",
              "      <td>0.694936</td>\n",
              "      <td>0.620983</td>\n",
              "      <td>-0.000373</td>\n",
              "    </tr>\n",
              "    <tr>\n",
              "      <th>K</th>\n",
              "      <td>0.969454</td>\n",
              "      <td>0.247264</td>\n",
              "      <td>0.939054</td>\n",
              "      <td>-0.169624</td>\n",
              "      <td>0.989395</td>\n",
              "      <td>0.784333</td>\n",
              "      <td>0.895900</td>\n",
              "      <td>0.991014</td>\n",
              "      <td>0.927925</td>\n",
              "      <td>0.733811</td>\n",
              "      <td>1.000000</td>\n",
              "      <td>-0.090594</td>\n",
              "      <td>0.957007</td>\n",
              "      <td>0.992229</td>\n",
              "      <td>0.983320</td>\n",
              "      <td>-0.000705</td>\n",
              "    </tr>\n",
              "    <tr>\n",
              "      <th>L</th>\n",
              "      <td>0.131911</td>\n",
              "      <td>0.852674</td>\n",
              "      <td>0.230286</td>\n",
              "      <td>0.948694</td>\n",
              "      <td>0.019809</td>\n",
              "      <td>0.509705</td>\n",
              "      <td>0.326233</td>\n",
              "      <td>0.005675</td>\n",
              "      <td>-0.418360</td>\n",
              "      <td>0.571380</td>\n",
              "      <td>-0.090594</td>\n",
              "      <td>1.000000</td>\n",
              "      <td>0.022680</td>\n",
              "      <td>-0.142388</td>\n",
              "      <td>-0.236721</td>\n",
              "      <td>0.000080</td>\n",
              "    </tr>\n",
              "    <tr>\n",
              "      <th>M</th>\n",
              "      <td>0.959287</td>\n",
              "      <td>0.344671</td>\n",
              "      <td>0.941695</td>\n",
              "      <td>-0.049328</td>\n",
              "      <td>0.965000</td>\n",
              "      <td>0.825272</td>\n",
              "      <td>0.911413</td>\n",
              "      <td>0.964863</td>\n",
              "      <td>0.851813</td>\n",
              "      <td>0.783634</td>\n",
              "      <td>0.957007</td>\n",
              "      <td>0.022680</td>\n",
              "      <td>1.000000</td>\n",
              "      <td>0.947994</td>\n",
              "      <td>0.927786</td>\n",
              "      <td>-0.000631</td>\n",
              "    </tr>\n",
              "    <tr>\n",
              "      <th>N</th>\n",
              "      <td>0.954066</td>\n",
              "      <td>0.196055</td>\n",
              "      <td>0.918232</td>\n",
              "      <td>-0.223034</td>\n",
              "      <td>0.980315</td>\n",
              "      <td>0.748627</td>\n",
              "      <td>0.869890</td>\n",
              "      <td>0.982734</td>\n",
              "      <td>0.944620</td>\n",
              "      <td>0.694936</td>\n",
              "      <td>0.992229</td>\n",
              "      <td>-0.142388</td>\n",
              "      <td>0.947994</td>\n",
              "      <td>1.000000</td>\n",
              "      <td>0.989087</td>\n",
              "      <td>-0.000725</td>\n",
              "    </tr>\n",
              "    <tr>\n",
              "      <th>O</th>\n",
              "      <td>0.922130</td>\n",
              "      <td>0.101499</td>\n",
              "      <td>0.876472</td>\n",
              "      <td>-0.320017</td>\n",
              "      <td>0.959836</td>\n",
              "      <td>0.680245</td>\n",
              "      <td>0.818797</td>\n",
              "      <td>0.963728</td>\n",
              "      <td>0.971547</td>\n",
              "      <td>0.620983</td>\n",
              "      <td>0.983320</td>\n",
              "      <td>-0.236721</td>\n",
              "      <td>0.927786</td>\n",
              "      <td>0.989087</td>\n",
              "      <td>1.000000</td>\n",
              "      <td>-0.000700</td>\n",
              "    </tr>\n",
              "    <tr>\n",
              "      <th>Class</th>\n",
              "      <td>-0.000639</td>\n",
              "      <td>0.000082</td>\n",
              "      <td>-0.000710</td>\n",
              "      <td>0.000120</td>\n",
              "      <td>-0.000665</td>\n",
              "      <td>-0.000583</td>\n",
              "      <td>-0.000496</td>\n",
              "      <td>-0.000684</td>\n",
              "      <td>-0.000756</td>\n",
              "      <td>-0.000373</td>\n",
              "      <td>-0.000705</td>\n",
              "      <td>0.000080</td>\n",
              "      <td>-0.000631</td>\n",
              "      <td>-0.000725</td>\n",
              "      <td>-0.000700</td>\n",
              "      <td>1.000000</td>\n",
              "    </tr>\n",
              "  </tbody>\n",
              "</table>\n",
              "</div>"
            ],
            "text/plain": [
              "              A         B         C  ...         N         O     Class\n",
              "A      1.000000  0.454636  0.992084  ...  0.954066  0.922130 -0.000639\n",
              "B      0.454636  1.000000  0.539903  ...  0.196055  0.101499  0.000082\n",
              "C      0.992084  0.539903  1.000000  ...  0.918232  0.876472 -0.000710\n",
              "D      0.062652  0.863770  0.166794  ... -0.223034 -0.320017  0.000120\n",
              "E      0.990852  0.352570  0.972275  ...  0.980315  0.959836 -0.000665\n",
              "F      0.906120  0.758991  0.943775  ...  0.748627  0.680245 -0.000583\n",
              "G      0.972511  0.618514  0.988382  ...  0.869890  0.818797 -0.000496\n",
              "H      0.988997  0.339316  0.968884  ...  0.982734  0.963728 -0.000684\n",
              "I      0.822571 -0.093470  0.758824  ...  0.944620  0.971547 -0.000756\n",
              "J      0.870842  0.801862  0.916090  ...  0.694936  0.620983 -0.000373\n",
              "K      0.969454  0.247264  0.939054  ...  0.992229  0.983320 -0.000705\n",
              "L      0.131911  0.852674  0.230286  ... -0.142388 -0.236721  0.000080\n",
              "M      0.959287  0.344671  0.941695  ...  0.947994  0.927786 -0.000631\n",
              "N      0.954066  0.196055  0.918232  ...  1.000000  0.989087 -0.000725\n",
              "O      0.922130  0.101499  0.876472  ...  0.989087  1.000000 -0.000700\n",
              "Class -0.000639  0.000082 -0.000710  ... -0.000725 -0.000700  1.000000\n",
              "\n",
              "[16 rows x 16 columns]"
            ]
          },
          "metadata": {
            "tags": []
          },
          "execution_count": 14
        }
      ]
    },
    {
      "cell_type": "code",
      "metadata": {
        "colab": {
          "base_uri": "https://localhost:8080/",
          "height": 596
        },
        "id": "4KU6zLlgOJTN",
        "outputId": "3ca8d2cf-6ab5-4997-ec5a-3985a70c9dea"
      },
      "source": [
        "## Visualizing correlation \n",
        "\n",
        "plt.figure(figsize=(12,10))\n",
        "cor = df.corr()\n",
        "sns.heatmap(cor, annot=True, cmap=plt.cm.Reds)\n",
        "plt.show()"
      ],
      "execution_count": null,
      "outputs": [
        {
          "output_type": "display_data",
          "data": {
            "image/png": "[encoded data removed]",
            "text/plain": [
              "<Figure size 864x720 with 2 Axes>"
            ]
          },
          "metadata": {
            "tags": [],
            "needs_background": "light"
          }
        }
      ]
    },
    {
      "cell_type": "markdown",
      "metadata": {
        "id": "vBGhvRHD5Q0t"
      },
      "source": [
        "We notice a lot of correlations between the features themselves but no visible correlation between any of the features and the target variable."
      ]
    },
    {
      "cell_type": "markdown",
      "metadata": {
        "id": "mXyadV2j_Zbh"
      },
      "source": [
        "Furthermore, let us look at some of the summary statistics for the dataset. "
      ]
    },
    {
      "cell_type": "code",
      "metadata": {
        "colab": {
          "base_uri": "https://localhost:8080/",
          "height": 402
        },
        "id": "iZ4W1g5m_gGK",
        "outputId": "07b3bfc6-b879-4963-b14b-b7fd3f089138"
      },
      "source": [
        "df.describe()"
      ],
      "execution_count": null,
      "outputs": [
        {
          "output_type": "execute_result",
          "data": {
            "text/html": [
              "<div>\n",
              "<style scoped>\n",
              "    .dataframe tbody tr th:only-of-type {\n",
              "        vertical-align: middle;\n",
              "    }\n",
              "\n",
              "    .dataframe tbody tr th {\n",
              "        vertical-align: top;\n",
              "    }\n",
              "\n",
              "    .dataframe thead th {\n",
              "        text-align: right;\n",
              "    }\n",
              "</style>\n",
              "<table border=\"1\" class=\"dataframe\">\n",
              "  <thead>\n",
              "    <tr style=\"text-align: right;\">\n",
              "      <th></th>\n",
              "      <th>0</th>\n",
              "      <th>1</th>\n",
              "      <th>2</th>\n",
              "      <th>3</th>\n",
              "      <th>4</th>\n",
              "      <th>5</th>\n",
              "      <th>6</th>\n",
              "      <th>7</th>\n",
              "      <th>8</th>\n",
              "      <th>9</th>\n",
              "      <th>10</th>\n",
              "      <th>11</th>\n",
              "      <th>12</th>\n",
              "      <th>13</th>\n",
              "      <th>14</th>\n",
              "      <th>15</th>\n",
              "    </tr>\n",
              "  </thead>\n",
              "  <tbody>\n",
              "    <tr>\n",
              "      <th>count</th>\n",
              "      <td>1.193716e+06</td>\n",
              "      <td>1.193716e+06</td>\n",
              "      <td>1.193716e+06</td>\n",
              "      <td>1.193716e+06</td>\n",
              "      <td>1.193716e+06</td>\n",
              "      <td>1.193716e+06</td>\n",
              "      <td>1.193716e+06</td>\n",
              "      <td>1.193716e+06</td>\n",
              "      <td>1.193716e+06</td>\n",
              "      <td>1.193716e+06</td>\n",
              "      <td>1.193716e+06</td>\n",
              "      <td>1.193716e+06</td>\n",
              "      <td>1.193716e+06</td>\n",
              "      <td>1.193716e+06</td>\n",
              "      <td>1.193716e+06</td>\n",
              "      <td>1.193716e+06</td>\n",
              "    </tr>\n",
              "    <tr>\n",
              "      <th>mean</th>\n",
              "      <td>-8.682936e-02</td>\n",
              "      <td>-1.179830e-01</td>\n",
              "      <td>1.744621e-01</td>\n",
              "      <td>2.945297e-02</td>\n",
              "      <td>-6.603729e-02</td>\n",
              "      <td>-1.804881e-01</td>\n",
              "      <td>4.078992e-02</td>\n",
              "      <td>-3.276651e-02</td>\n",
              "      <td>4.305327e-02</td>\n",
              "      <td>1.642882e-01</td>\n",
              "      <td>1.747227e-01</td>\n",
              "      <td>-1.174406e-02</td>\n",
              "      <td>-3.586773e-01</td>\n",
              "      <td>6.972377e-02</td>\n",
              "      <td>1.323054e-01</td>\n",
              "      <td>1.508529e-02</td>\n",
              "    </tr>\n",
              "    <tr>\n",
              "      <th>std</th>\n",
              "      <td>3.718887e-01</td>\n",
              "      <td>7.764584e-02</td>\n",
              "      <td>1.956824e-01</td>\n",
              "      <td>2.400391e-01</td>\n",
              "      <td>2.344030e-01</td>\n",
              "      <td>2.511771e-01</td>\n",
              "      <td>1.533557e-01</td>\n",
              "      <td>2.977592e-01</td>\n",
              "      <td>1.324322e-01</td>\n",
              "      <td>2.405747e-01</td>\n",
              "      <td>1.657364e-01</td>\n",
              "      <td>7.397640e-02</td>\n",
              "      <td>2.732374e-01</td>\n",
              "      <td>1.590093e-01</td>\n",
              "      <td>1.339101e-01</td>\n",
              "      <td>1.119693e-02</td>\n",
              "    </tr>\n",
              "    <tr>\n",
              "      <th>min</th>\n",
              "      <td>-5.641228e-01</td>\n",
              "      <td>-3.467873e-01</td>\n",
              "      <td>-2.451355e-01</td>\n",
              "      <td>-5.426783e-01</td>\n",
              "      <td>-4.212605e-01</td>\n",
              "      <td>-5.797971e-01</td>\n",
              "      <td>-2.662464e-01</td>\n",
              "      <td>-4.687216e-01</td>\n",
              "      <td>-2.141106e-01</td>\n",
              "      <td>-4.473066e-01</td>\n",
              "      <td>-1.618353e-01</td>\n",
              "      <td>-2.236202e-01</td>\n",
              "      <td>-7.502839e-01</td>\n",
              "      <td>-2.333903e-01</td>\n",
              "      <td>-1.470151e-01</td>\n",
              "      <td>1.748121e-03</td>\n",
              "    </tr>\n",
              "    <tr>\n",
              "      <th>25%</th>\n",
              "      <td>-3.831722e-01</td>\n",
              "      <td>-1.837829e-01</td>\n",
              "      <td>8.731156e-02</td>\n",
              "      <td>-2.710167e-02</td>\n",
              "      <td>-2.757621e-01</td>\n",
              "      <td>-3.426897e-01</td>\n",
              "      <td>-3.819777e-02</td>\n",
              "      <td>-2.977815e-01</td>\n",
              "      <td>-8.606633e-02</td>\n",
              "      <td>2.241379e-01</td>\n",
              "      <td>2.713228e-02</td>\n",
              "      <td>-2.210129e-02</td>\n",
              "      <td>-6.233344e-01</td>\n",
              "      <td>-8.091249e-02</td>\n",
              "      <td>1.626775e-03</td>\n",
              "      <td>4.178373e-03</td>\n",
              "    </tr>\n",
              "    <tr>\n",
              "      <th>50%</th>\n",
              "      <td>-2.715352e-01</td>\n",
              "      <td>-1.390441e-01</td>\n",
              "      <td>1.530571e-01</td>\n",
              "      <td>1.379041e-01</td>\n",
              "      <td>-1.884983e-01</td>\n",
              "      <td>-2.808178e-01</td>\n",
              "      <td>1.744693e-02</td>\n",
              "      <td>-2.055153e-01</td>\n",
              "      <td>-2.241985e-02</td>\n",
              "      <td>2.506780e-01</td>\n",
              "      <td>1.210824e-01</td>\n",
              "      <td>-4.003349e-03</td>\n",
              "      <td>-5.576114e-01</td>\n",
              "      <td>4.951466e-03</td>\n",
              "      <td>8.374013e-02</td>\n",
              "      <td>1.150130e-02</td>\n",
              "    </tr>\n",
              "    <tr>\n",
              "      <th>75%</th>\n",
              "      <td>4.222780e-01</td>\n",
              "      <td>-2.420942e-02</td>\n",
              "      <td>3.935976e-01</td>\n",
              "      <td>2.214873e-01</td>\n",
              "      <td>2.382795e-01</td>\n",
              "      <td>1.451724e-01</td>\n",
              "      <td>2.135965e-01</td>\n",
              "      <td>3.549691e-01</td>\n",
              "      <td>1.629290e-01</td>\n",
              "      <td>2.869944e-01</td>\n",
              "      <td>3.798394e-01</td>\n",
              "      <td>3.364376e-02</td>\n",
              "      <td>-4.068122e-02</td>\n",
              "      <td>2.526280e-01</td>\n",
              "      <td>2.691281e-01</td>\n",
              "      <td>2.299900e-02</td>\n",
              "    </tr>\n",
              "    <tr>\n",
              "      <th>max</th>\n",
              "      <td>4.915968e-01</td>\n",
              "      <td>4.438030e-02</td>\n",
              "      <td>4.694679e-01</td>\n",
              "      <td>3.580803e-01</td>\n",
              "      <td>2.932855e-01</td>\n",
              "      <td>2.255647e-01</td>\n",
              "      <td>3.066592e-01</td>\n",
              "      <td>4.235634e-01</td>\n",
              "      <td>2.972185e-01</td>\n",
              "      <td>4.972386e-01</td>\n",
              "      <td>4.663865e-01</td>\n",
              "      <td>2.487749e-01</td>\n",
              "      <td>1.947968e-02</td>\n",
              "      <td>3.285054e-01</td>\n",
              "      <td>3.314799e-01</td>\n",
              "      <td>4.064299e-02</td>\n",
              "    </tr>\n",
              "  </tbody>\n",
              "</table>\n",
              "</div>"
            ],
            "text/plain": [
              "                 0             1   ...            14            15\n",
              "count  1.193716e+06  1.193716e+06  ...  1.193716e+06  1.193716e+06\n",
              "mean  -8.682936e-02 -1.179830e-01  ...  1.323054e-01  1.508529e-02\n",
              "std    3.718887e-01  7.764584e-02  ...  1.339101e-01  1.119693e-02\n",
              "min   -5.641228e-01 -3.467873e-01  ... -1.470151e-01  1.748121e-03\n",
              "25%   -3.831722e-01 -1.837829e-01  ...  1.626775e-03  4.178373e-03\n",
              "50%   -2.715352e-01 -1.390441e-01  ...  8.374013e-02  1.150130e-02\n",
              "75%    4.222780e-01 -2.420942e-02  ...  2.691281e-01  2.299900e-02\n",
              "max    4.915968e-01  4.438030e-02  ...  3.314799e-01  4.064299e-02\n",
              "\n",
              "[8 rows x 16 columns]"
            ]
          },
          "metadata": {
            "tags": []
          },
          "execution_count": 40
        }
      ]
    },
    {
      "cell_type": "markdown",
      "metadata": {
        "id": "Hh6Tj14v59cv"
      },
      "source": [
        "### *Pricipal Compnent Analysis*"
      ]
    },
    {
      "cell_type": "markdown",
      "metadata": {
        "id": "kdfPt2u2_q1z"
      },
      "source": [
        "Principal Component Analysis, or PCA, is a dimensionality-reduction method that is often used to reduce the dimensionality of large data sets, by transforming a large set of variables into a smaller one that still contains most of the information in the large set.\n",
        "\n",
        "Reducing the number of variables of a data set naturally comes at the expense of accuracy, but the trick in dimensionality reduction is to trade a little accuracy for simplicity. Because smaller data sets are easier to explore and visualize and make analyzing data much easier and faster for machine learning algorithms without extraneous variables to process.\n",
        "\n",
        "SOURCE : https://builtin.com/data-science/step-step-explanation-principal-component-analysis "
      ]
    },
    {
      "cell_type": "code",
      "metadata": {
        "id": "2d75cfBa65Ag"
      },
      "source": [
        "df_original = pd.read_csv('/content/drive/MyDrive/Datasets/data_public.csv.gz')\n",
        "df_copy = df_original.copy()"
      ],
      "execution_count": null,
      "outputs": []
    },
    {
      "cell_type": "code",
      "metadata": {
        "id": "GC46SxDI7FAX"
      },
      "source": [
        "pca_df = df_copy"
      ],
      "execution_count": null,
      "outputs": []
    },
    {
      "cell_type": "code",
      "metadata": {
        "id": "hFb-I8QP6lwu",
        "colab": {
          "base_uri": "https://localhost:8080/",
          "height": 224
        },
        "outputId": "af55a1bb-44db-4c0b-dfa1-fa1bb4f58236"
      },
      "source": [
        "## Standardizing the data \n",
        "\n",
        "labels = ['A', 'B','C','D','E','F','G','H','I','J','K','L','M','N','O']\n",
        "\n",
        "sc = StandardScaler()\n",
        "\n",
        "df_scaled = sc.fit_transform(pca_df.drop('Class', axis=1))\n",
        "df_scaled = pd.DataFrame(df_scaled, columns=labels)\n",
        "df_scaled = pd.concat([df_scaled, pca_df['Class']], axis=1)\n",
        "df_scaled.head()"
      ],
      "execution_count": null,
      "outputs": [
        {
          "output_type": "execute_result",
          "data": {
            "text/html": [
              "<div>\n",
              "<style scoped>\n",
              "    .dataframe tbody tr th:only-of-type {\n",
              "        vertical-align: middle;\n",
              "    }\n",
              "\n",
              "    .dataframe tbody tr th {\n",
              "        vertical-align: top;\n",
              "    }\n",
              "\n",
              "    .dataframe thead th {\n",
              "        text-align: right;\n",
              "    }\n",
              "</style>\n",
              "<table border=\"1\" class=\"dataframe\">\n",
              "  <thead>\n",
              "    <tr style=\"text-align: right;\">\n",
              "      <th></th>\n",
              "      <th>A</th>\n",
              "      <th>B</th>\n",
              "      <th>C</th>\n",
              "      <th>D</th>\n",
              "      <th>E</th>\n",
              "      <th>F</th>\n",
              "      <th>G</th>\n",
              "      <th>H</th>\n",
              "      <th>I</th>\n",
              "      <th>J</th>\n",
              "      <th>K</th>\n",
              "      <th>L</th>\n",
              "      <th>M</th>\n",
              "      <th>N</th>\n",
              "      <th>O</th>\n",
              "      <th>Class</th>\n",
              "    </tr>\n",
              "  </thead>\n",
              "  <tbody>\n",
              "    <tr>\n",
              "      <th>0</th>\n",
              "      <td>1.398333</td>\n",
              "      <td>0.457892</td>\n",
              "      <td>1.386800</td>\n",
              "      <td>-0.043941</td>\n",
              "      <td>1.518831</td>\n",
              "      <td>1.136805</td>\n",
              "      <td>1.499176</td>\n",
              "      <td>1.421937</td>\n",
              "      <td>1.182621</td>\n",
              "      <td>1.123217</td>\n",
              "      <td>1.531100</td>\n",
              "      <td>0.048383</td>\n",
              "      <td>1.542774</td>\n",
              "      <td>1.390885</td>\n",
              "      <td>1.402222</td>\n",
              "      <td>2</td>\n",
              "    </tr>\n",
              "    <tr>\n",
              "      <th>1</th>\n",
              "      <td>-0.686316</td>\n",
              "      <td>0.320671</td>\n",
              "      <td>-0.589262</td>\n",
              "      <td>0.764323</td>\n",
              "      <td>-0.755534</td>\n",
              "      <td>-0.166762</td>\n",
              "      <td>-0.477999</td>\n",
              "      <td>-0.820431</td>\n",
              "      <td>-0.980689</td>\n",
              "      <td>-0.222670</td>\n",
              "      <td>-0.792750</td>\n",
              "      <td>0.613532</td>\n",
              "      <td>-0.949550</td>\n",
              "      <td>-0.909245</td>\n",
              "      <td>-0.875843</td>\n",
              "      <td>3</td>\n",
              "    </tr>\n",
              "    <tr>\n",
              "      <th>2</th>\n",
              "      <td>-0.695429</td>\n",
              "      <td>-0.109594</td>\n",
              "      <td>-0.480605</td>\n",
              "      <td>0.710940</td>\n",
              "      <td>-0.759987</td>\n",
              "      <td>-0.177913</td>\n",
              "      <td>-0.520931</td>\n",
              "      <td>-0.739075</td>\n",
              "      <td>-0.939343</td>\n",
              "      <td>-0.190270</td>\n",
              "      <td>-0.774695</td>\n",
              "      <td>0.830704</td>\n",
              "      <td>-0.815240</td>\n",
              "      <td>-0.805046</td>\n",
              "      <td>-0.910959</td>\n",
              "      <td>2</td>\n",
              "    </tr>\n",
              "    <tr>\n",
              "      <th>3</th>\n",
              "      <td>1.322591</td>\n",
              "      <td>0.902156</td>\n",
              "      <td>1.378256</td>\n",
              "      <td>0.077838</td>\n",
              "      <td>1.336854</td>\n",
              "      <td>1.249231</td>\n",
              "      <td>1.157837</td>\n",
              "      <td>1.416902</td>\n",
              "      <td>1.175193</td>\n",
              "      <td>1.509929</td>\n",
              "      <td>1.408750</td>\n",
              "      <td>0.200674</td>\n",
              "      <td>1.499253</td>\n",
              "      <td>1.274864</td>\n",
              "      <td>1.338920</td>\n",
              "      <td>2</td>\n",
              "    </tr>\n",
              "    <tr>\n",
              "      <th>4</th>\n",
              "      <td>1.376193</td>\n",
              "      <td>0.441525</td>\n",
              "      <td>1.263438</td>\n",
              "      <td>0.005832</td>\n",
              "      <td>1.503497</td>\n",
              "      <td>1.331041</td>\n",
              "      <td>1.259054</td>\n",
              "      <td>1.529661</td>\n",
              "      <td>1.350708</td>\n",
              "      <td>1.161552</td>\n",
              "      <td>1.290718</td>\n",
              "      <td>0.332113</td>\n",
              "      <td>1.518267</td>\n",
              "      <td>1.469607</td>\n",
              "      <td>1.313165</td>\n",
              "      <td>3</td>\n",
              "    </tr>\n",
              "  </tbody>\n",
              "</table>\n",
              "</div>"
            ],
            "text/plain": [
              "          A         B         C         D  ...         M         N         O  Class\n",
              "0  1.398333  0.457892  1.386800 -0.043941  ...  1.542774  1.390885  1.402222      2\n",
              "1 -0.686316  0.320671 -0.589262  0.764323  ... -0.949550 -0.909245 -0.875843      3\n",
              "2 -0.695429 -0.109594 -0.480605  0.710940  ... -0.815240 -0.805046 -0.910959      2\n",
              "3  1.322591  0.902156  1.378256  0.077838  ...  1.499253  1.274864  1.338920      2\n",
              "4  1.376193  0.441525  1.263438  0.005832  ...  1.518267  1.469607  1.313165      3\n",
              "\n",
              "[5 rows x 16 columns]"
            ]
          },
          "metadata": {
            "tags": []
          },
          "execution_count": 34
        }
      ]
    },
    {
      "cell_type": "code",
      "metadata": {
        "colab": {
          "base_uri": "https://localhost:8080/",
          "height": 279
        },
        "id": "NPSCQMkQ7XV5",
        "outputId": "1756925b-2156-48bd-d586-47b0278cc4fd"
      },
      "source": [
        "## Elbow plot to decide optimal number of pricipal components \n",
        "\n",
        "pca = decomposition.PCA(n_components=15)\n",
        "pca.fit(df_scaled.drop(['Class'], axis=1))\n",
        "\n",
        "plt.plot(np.cumsum(pca.explained_variance_ratio_))\n",
        "\n",
        "plt.xlabel('Number of components')\n",
        "plt.ylabel('Explained Variance')\n",
        "plt.show()"
      ],
      "execution_count": null,
      "outputs": [
        {
          "output_type": "display_data",
          "data": {
            "image/png": "[encoded data removed]",
            "text/plain": [
              "<Figure size 432x288 with 1 Axes>"
            ]
          },
          "metadata": {
            "tags": [],
            "needs_background": "light"
          }
        }
      ]
    },
    {
      "cell_type": "markdown",
      "metadata": {
        "id": "FkXeKD_g8_JL"
      },
      "source": [
        "Based on the elbow plot above, we notice that PCA reveals that the optimal number of components that can explain most of the variance in the data is 1. Hence for all our models, we will set the number of principal components to be 1. "
      ]
    },
    {
      "cell_type": "code",
      "metadata": {
        "colab": {
          "base_uri": "https://localhost:8080/",
          "height": 224
        },
        "id": "ZXHmTbdX8M-f",
        "outputId": "5bbd26b6-ac68-40f9-8020-e821004305eb"
      },
      "source": [
        "labels = ['A', 'B','C','D','E','F','G','H','I','J','K','L','M','N','O']\n",
        "X = pd.DataFrame(data=df_copy.drop('Class', axis=1),\n",
        "columns=labels)\n",
        "y = pd.DataFrame(data=df_copy['Class'],\n",
        "columns=['Class'])\n",
        "X_train, X_test, y_train, y_test = train_test_split(X,\n",
        "y,\n",
        "test_size=0.3)\n",
        "training_data = pd.concat([X_train,\n",
        "y_train],\n",
        "axis=1)\n",
        "training_data.head()"
      ],
      "execution_count": null,
      "outputs": [
        {
          "output_type": "execute_result",
          "data": {
            "text/html": [
              "<div>\n",
              "<style scoped>\n",
              "    .dataframe tbody tr th:only-of-type {\n",
              "        vertical-align: middle;\n",
              "    }\n",
              "\n",
              "    .dataframe tbody tr th {\n",
              "        vertical-align: top;\n",
              "    }\n",
              "\n",
              "    .dataframe thead th {\n",
              "        text-align: right;\n",
              "    }\n",
              "</style>\n",
              "<table border=\"1\" class=\"dataframe\">\n",
              "  <thead>\n",
              "    <tr style=\"text-align: right;\">\n",
              "      <th></th>\n",
              "      <th>A</th>\n",
              "      <th>B</th>\n",
              "      <th>C</th>\n",
              "      <th>D</th>\n",
              "      <th>E</th>\n",
              "      <th>F</th>\n",
              "      <th>G</th>\n",
              "      <th>H</th>\n",
              "      <th>I</th>\n",
              "      <th>J</th>\n",
              "      <th>K</th>\n",
              "      <th>L</th>\n",
              "      <th>M</th>\n",
              "      <th>N</th>\n",
              "      <th>O</th>\n",
              "      <th>Class</th>\n",
              "    </tr>\n",
              "  </thead>\n",
              "  <tbody>\n",
              "    <tr>\n",
              "      <th>1072504</th>\n",
              "      <td>-33.490647</td>\n",
              "      <td>-14.661206</td>\n",
              "      <td>11.747871</td>\n",
              "      <td>22.346489</td>\n",
              "      <td>-27.721191</td>\n",
              "      <td>-32.512465</td>\n",
              "      <td>1.824240</td>\n",
              "      <td>-21.259593</td>\n",
              "      <td>-2.589216</td>\n",
              "      <td>26.955136</td>\n",
              "      <td>6.399912</td>\n",
              "      <td>1.483937</td>\n",
              "      <td>-54.714254</td>\n",
              "      <td>-1.926332</td>\n",
              "      <td>0.959314</td>\n",
              "      <td>2</td>\n",
              "    </tr>\n",
              "    <tr>\n",
              "      <th>713041</th>\n",
              "      <td>232.502535</td>\n",
              "      <td>-16.856704</td>\n",
              "      <td>205.474510</td>\n",
              "      <td>-14.107232</td>\n",
              "      <td>136.581658</td>\n",
              "      <td>83.115921</td>\n",
              "      <td>123.487581</td>\n",
              "      <td>199.993118</td>\n",
              "      <td>92.758674</td>\n",
              "      <td>118.742837</td>\n",
              "      <td>211.817383</td>\n",
              "      <td>-6.204622</td>\n",
              "      <td>-12.564981</td>\n",
              "      <td>149.711416</td>\n",
              "      <td>148.140174</td>\n",
              "      <td>2</td>\n",
              "    </tr>\n",
              "    <tr>\n",
              "      <th>450874</th>\n",
              "      <td>-57.255765</td>\n",
              "      <td>-54.097917</td>\n",
              "      <td>-47.377616</td>\n",
              "      <td>-110.555513</td>\n",
              "      <td>-5.144220</td>\n",
              "      <td>-127.730494</td>\n",
              "      <td>-54.644947</td>\n",
              "      <td>-16.453346</td>\n",
              "      <td>54.164936</td>\n",
              "      <td>-93.148273</td>\n",
              "      <td>51.862258</td>\n",
              "      <td>-46.542656</td>\n",
              "      <td>-54.427696</td>\n",
              "      <td>31.323314</td>\n",
              "      <td>56.544112</td>\n",
              "      <td>3</td>\n",
              "    </tr>\n",
              "    <tr>\n",
              "      <th>979023</th>\n",
              "      <td>-38.155386</td>\n",
              "      <td>-17.266492</td>\n",
              "      <td>14.639302</td>\n",
              "      <td>17.939150</td>\n",
              "      <td>-23.693301</td>\n",
              "      <td>-26.303813</td>\n",
              "      <td>1.091643</td>\n",
              "      <td>-23.316217</td>\n",
              "      <td>-4.596005</td>\n",
              "      <td>24.001450</td>\n",
              "      <td>-3.167364</td>\n",
              "      <td>-0.570434</td>\n",
              "      <td>-56.687451</td>\n",
              "      <td>-8.030547</td>\n",
              "      <td>1.433857</td>\n",
              "      <td>2</td>\n",
              "    </tr>\n",
              "    <tr>\n",
              "      <th>410123</th>\n",
              "      <td>-64.632650</td>\n",
              "      <td>-42.713574</td>\n",
              "      <td>-43.565149</td>\n",
              "      <td>-120.293119</td>\n",
              "      <td>-14.512706</td>\n",
              "      <td>-118.812219</td>\n",
              "      <td>-54.989279</td>\n",
              "      <td>-8.047951</td>\n",
              "      <td>42.408857</td>\n",
              "      <td>-87.328656</td>\n",
              "      <td>37.873110</td>\n",
              "      <td>-38.116028</td>\n",
              "      <td>-61.472808</td>\n",
              "      <td>45.325541</td>\n",
              "      <td>65.779968</td>\n",
              "      <td>1</td>\n",
              "    </tr>\n",
              "  </tbody>\n",
              "</table>\n",
              "</div>"
            ],
            "text/plain": [
              "                  A          B           C  ...           N           O  Class\n",
              "1072504  -33.490647 -14.661206   11.747871  ...   -1.926332    0.959314      2\n",
              "713041   232.502535 -16.856704  205.474510  ...  149.711416  148.140174      2\n",
              "450874   -57.255765 -54.097917  -47.377616  ...   31.323314   56.544112      3\n",
              "979023   -38.155386 -17.266492   14.639302  ...   -8.030547    1.433857      2\n",
              "410123   -64.632650 -42.713574  -43.565149  ...   45.325541   65.779968      1\n",
              "\n",
              "[5 rows x 16 columns]"
            ]
          },
          "metadata": {
            "tags": []
          },
          "execution_count": 38
        }
      ]
    },
    {
      "cell_type": "markdown",
      "metadata": {
        "id": "rkTWu0ra8rX8"
      },
      "source": [
        "We then try a brute force method to detect which features hinder the accuracy of our results the most. Based on this, we can decide which features to remove and which features to keep. We loop over all the features and test the accuracy of the model on each feature and decide which one to drop based on the accuracies obtained. "
      ]
    },
    {
      "cell_type": "code",
      "metadata": {
        "id": "BbNhwZF6VWfi",
        "colab": {
          "base_uri": "https://localhost:8080/"
        },
        "outputId": "a17f8c52-1352-4731-ab67-f33c6f2eb084"
      },
      "source": [
        "##* CODE REFERENCED FROM VICTORIA BELOTTI  *\n",
        "\n",
        "features = 'ABCDEFGHIJKLMNO'\n",
        "\n",
        "for i in range(0, len(features)):\n",
        "\n",
        "  pipeline = PMMLPipeline([\n",
        "                           ('mapper', DataFrameMapper([\n",
        "                                                       (X_train.columns.drop([features[i:i+1]]).values,\n",
        "                                                        [StandardScaler()])])),\n",
        "                           ('pca', PCA(n_components=1)),\n",
        "                           ('classifier', DecisionTreeClassifier(max_depth=12))\n",
        "                           ])\n",
        "  pipeline.fit(training_data.drop([features[i:i+1]], axis=1), training_data['Class'])\n",
        "\n",
        "  results = pipeline.predict(X_test)\n",
        "  acutal = np.concatenate(y_test.values)\n",
        "  print('Dropped feature:', features[i:i+1], \", Accuracy:\", metrics.accuracy_score(acutal, results))"
      ],
      "execution_count": null,
      "outputs": [
        {
          "output_type": "stream",
          "text": [
            "Dropped feature: A , Accuracy: 0.49895555555555554\n",
            "Dropped feature: B , Accuracy: 0.49896944444444447\n",
            "Dropped feature: C , Accuracy: 0.4988666666666667\n",
            "Dropped feature: D , Accuracy: 0.49891944444444447\n",
            "Dropped feature: E , Accuracy: 0.49879444444444443\n",
            "Dropped feature: F , Accuracy: 0.498875\n",
            "Dropped feature: G , Accuracy: 0.4989527777777778\n",
            "Dropped feature: H , Accuracy: 0.49904444444444446\n",
            "Dropped feature: I , Accuracy: 0.49869722222222224\n",
            "Dropped feature: J , Accuracy: 0.4989777777777778\n",
            "Dropped feature: K , Accuracy: 0.49896944444444447\n",
            "Dropped feature: L , Accuracy: 0.49893333333333334\n",
            "Dropped feature: M , Accuracy: 0.49895\n",
            "Dropped feature: N , Accuracy: 0.49901944444444446\n",
            "Dropped feature: O , Accuracy: 0.49875555555555556\n"
          ],
          "name": "stdout"
        }
      ]
    },
    {
      "cell_type": "markdown",
      "metadata": {
        "id": "S-i803xBYxMI"
      },
      "source": [
        "We notice that the above method does not really help us make decisions on feature importance since all features seem to be giving us more or less the same accuracy. "
      ]
    },
    {
      "cell_type": "markdown",
      "metadata": {
        "id": "pFY0SBui9zRf"
      },
      "source": [
        "I was curious as to how the performance of the model would change if I were to increase the number of principal components to 2 instead of 1. My main thought process was that if two components are sufficient to explain the variance ratio of the dataset, then we can test its performance on the model. "
      ]
    },
    {
      "cell_type": "code",
      "metadata": {
        "id": "A6-GSFiPAilu"
      },
      "source": [
        "from sklearn.preprocessing import StandardScaler\n",
        "\n",
        "features = ['A', 'B','C','D','E','F','G','H','I','J','K','L','M','N','O']\n",
        "\n",
        "## Separating out the target variable \n",
        "\n",
        "X = pca_df.loc[:, features].values\n",
        "y = pca_df.loc[:, ['Class']].values\n",
        "\n",
        "# Standardizing \n",
        "X = StandardScaler().fit_transform(X)\n"
      ],
      "execution_count": null,
      "outputs": []
    },
    {
      "cell_type": "code",
      "metadata": {
        "id": "Hw4qHW1AAq0s"
      },
      "source": [
        "## Implementing PCA \n",
        "\n",
        "from sklearn.decomposition import PCA \n",
        "\n",
        "pca = PCA(n_components=2)\n",
        "\n",
        "principalComps = pca.fit_transform(X)\n",
        "\n",
        "principalDf = pd.DataFrame(data = principalComps, columns=['p1', 'p2'])"
      ],
      "execution_count": null,
      "outputs": []
    },
    {
      "cell_type": "code",
      "metadata": {
        "colab": {
          "base_uri": "https://localhost:8080/",
          "height": 204
        },
        "id": "Nh7M7G6dAuW0",
        "outputId": "90782668-873c-4156-a54e-1ddf687882cf"
      },
      "source": [
        "principalDf.head()"
      ],
      "execution_count": null,
      "outputs": [
        {
          "output_type": "execute_result",
          "data": {
            "text/html": [
              "<div>\n",
              "<style scoped>\n",
              "    .dataframe tbody tr th:only-of-type {\n",
              "        vertical-align: middle;\n",
              "    }\n",
              "\n",
              "    .dataframe tbody tr th {\n",
              "        vertical-align: top;\n",
              "    }\n",
              "\n",
              "    .dataframe thead th {\n",
              "        text-align: right;\n",
              "    }\n",
              "</style>\n",
              "<table border=\"1\" class=\"dataframe\">\n",
              "  <thead>\n",
              "    <tr style=\"text-align: right;\">\n",
              "      <th></th>\n",
              "      <th>p1</th>\n",
              "      <th>p2</th>\n",
              "    </tr>\n",
              "  </thead>\n",
              "  <tbody>\n",
              "    <tr>\n",
              "      <th>0</th>\n",
              "      <td>4.799926</td>\n",
              "      <td>0.360278</td>\n",
              "    </tr>\n",
              "    <tr>\n",
              "      <th>1</th>\n",
              "      <td>-2.262345</td>\n",
              "      <td>-1.525723</td>\n",
              "    </tr>\n",
              "    <tr>\n",
              "      <th>2</th>\n",
              "      <td>-2.193845</td>\n",
              "      <td>-1.387110</td>\n",
              "    </tr>\n",
              "    <tr>\n",
              "      <th>3</th>\n",
              "      <td>4.721129</td>\n",
              "      <td>-0.118250</td>\n",
              "    </tr>\n",
              "    <tr>\n",
              "      <th>4</th>\n",
              "      <td>4.749759</td>\n",
              "      <td>0.201256</td>\n",
              "    </tr>\n",
              "  </tbody>\n",
              "</table>\n",
              "</div>"
            ],
            "text/plain": [
              "         p1        p2\n",
              "0  4.799926  0.360278\n",
              "1 -2.262345 -1.525723\n",
              "2 -2.193845 -1.387110\n",
              "3  4.721129 -0.118250\n",
              "4  4.749759  0.201256"
            ]
          },
          "metadata": {
            "tags": []
          },
          "execution_count": 44
        }
      ]
    },
    {
      "cell_type": "code",
      "metadata": {
        "colab": {
          "base_uri": "https://localhost:8080/",
          "height": 204
        },
        "id": "tqVp0gMSAxkk",
        "outputId": "67c95419-0ee9-4e58-ce2d-f5b19253121c"
      },
      "source": [
        "principalDf = pd.concat([principalDf, pca_df[['Class']]], axis=1)\n",
        "principalDf.head()"
      ],
      "execution_count": null,
      "outputs": [
        {
          "output_type": "execute_result",
          "data": {
            "text/html": [
              "<div>\n",
              "<style scoped>\n",
              "    .dataframe tbody tr th:only-of-type {\n",
              "        vertical-align: middle;\n",
              "    }\n",
              "\n",
              "    .dataframe tbody tr th {\n",
              "        vertical-align: top;\n",
              "    }\n",
              "\n",
              "    .dataframe thead th {\n",
              "        text-align: right;\n",
              "    }\n",
              "</style>\n",
              "<table border=\"1\" class=\"dataframe\">\n",
              "  <thead>\n",
              "    <tr style=\"text-align: right;\">\n",
              "      <th></th>\n",
              "      <th>p1</th>\n",
              "      <th>p2</th>\n",
              "      <th>Class</th>\n",
              "    </tr>\n",
              "  </thead>\n",
              "  <tbody>\n",
              "    <tr>\n",
              "      <th>0</th>\n",
              "      <td>4.799926</td>\n",
              "      <td>0.360278</td>\n",
              "      <td>2</td>\n",
              "    </tr>\n",
              "    <tr>\n",
              "      <th>1</th>\n",
              "      <td>-2.262345</td>\n",
              "      <td>-1.525723</td>\n",
              "      <td>3</td>\n",
              "    </tr>\n",
              "    <tr>\n",
              "      <th>2</th>\n",
              "      <td>-2.193845</td>\n",
              "      <td>-1.387110</td>\n",
              "      <td>2</td>\n",
              "    </tr>\n",
              "    <tr>\n",
              "      <th>3</th>\n",
              "      <td>4.721129</td>\n",
              "      <td>-0.118250</td>\n",
              "      <td>2</td>\n",
              "    </tr>\n",
              "    <tr>\n",
              "      <th>4</th>\n",
              "      <td>4.749759</td>\n",
              "      <td>0.201256</td>\n",
              "      <td>3</td>\n",
              "    </tr>\n",
              "  </tbody>\n",
              "</table>\n",
              "</div>"
            ],
            "text/plain": [
              "         p1        p2  Class\n",
              "0  4.799926  0.360278      2\n",
              "1 -2.262345 -1.525723      3\n",
              "2 -2.193845 -1.387110      2\n",
              "3  4.721129 -0.118250      2\n",
              "4  4.749759  0.201256      3"
            ]
          },
          "metadata": {
            "tags": []
          },
          "execution_count": 45
        }
      ]
    },
    {
      "cell_type": "code",
      "metadata": {
        "colab": {
          "base_uri": "https://localhost:8080/",
          "height": 523
        },
        "id": "1ZP1k3C_A-ge",
        "outputId": "4be6eb89-5946-4fa9-c786-26f091daded7"
      },
      "source": [
        "## visualize pca \n",
        "\n",
        "fig = plt.figure(figsize=(8,8))\n",
        "ax = fig.add_subplot(1,1,1)\n",
        "ax.set_xlabel('Principal Component 1', fontsize=15)\n",
        "ax.set_ylabel('Principal Component 2', fontsize=15)\n",
        "ax.set_title('2 component PCA', fontsize=20)\n",
        "\n",
        "targets = [1, 2, 3]\n",
        "for t in targets:\n",
        "  to_keep = principalDf['Class'] == t\n",
        "  ax.scatter(principalDf.loc[to_keep, 'p1'], principalDf.loc[to_keep, 'p2'])\n",
        "\n",
        "ax.legend(features)\n",
        "ax.grid\n",
        "plt.show()"
      ],
      "execution_count": null,
      "outputs": [
        {
          "output_type": "display_data",
          "data": {
            "image/png": "[encoded data removed]",
            "text/plain": [
              "<Figure size 576x576 with 1 Axes>"
            ]
          },
          "metadata": {
            "tags": [],
            "needs_background": "light"
          }
        }
      ]
    },
    {
      "cell_type": "code",
      "metadata": {
        "colab": {
          "base_uri": "https://localhost:8080/"
        },
        "id": "127xcB9HBBwa",
        "outputId": "06ec40cf-1c21-4791-eed8-98a7d1b6474c"
      },
      "source": [
        "pca.explained_variance_ratio_"
      ],
      "execution_count": null,
      "outputs": [
        {
          "output_type": "execute_result",
          "data": {
            "text/plain": [
              "array([0.73386468, 0.24903022])"
            ]
          },
          "metadata": {
            "tags": []
          },
          "execution_count": 48
        }
      ]
    },
    {
      "cell_type": "code",
      "metadata": {
        "colab": {
          "base_uri": "https://localhost:8080/"
        },
        "id": "siTXATbMBRHM",
        "outputId": "f5d03ca8-d6f4-4b34-c35a-918669240fd3"
      },
      "source": [
        "sum(pca.explained_variance_ratio_)"
      ],
      "execution_count": null,
      "outputs": [
        {
          "output_type": "execute_result",
          "data": {
            "text/plain": [
              "0.9828949000184242"
            ]
          },
          "metadata": {
            "tags": []
          },
          "execution_count": 49
        }
      ]
    },
    {
      "cell_type": "markdown",
      "metadata": {
        "id": "RIfOjrYuBVEn"
      },
      "source": [
        "We find something interesting here. \n",
        "\n",
        "Taking two principal components, we notice that they are able to explain 98.2% of the variance. We can therefore consider n=2 principal components to be optimal in explaining the variance ratio as well. "
      ]
    },
    {
      "cell_type": "markdown",
      "metadata": {
        "id": "hwT56d62Bq_-"
      },
      "source": [
        "The next task I tried was to come up with the most optimal features using another technique. I figured using similarity between features would be an efficient way to go. And so I tried to select the 5 most similar features based on their similarities. Sklear's SelectKBest function helps us do just that using the Chi Square Distance."
      ]
    },
    {
      "cell_type": "code",
      "metadata": {
        "colab": {
          "base_uri": "https://localhost:8080/"
        },
        "id": "cU96EJpTHU2c",
        "outputId": "fdb5df30-a385-4f18-b874-e793e58793ce"
      },
      "source": [
        "from sklearn.feature_selection import SelectKBest, chi2\n",
        "from sklearn.preprocessing import MinMaxScaler\n",
        "\n",
        "scaler = MinMaxScaler()\n",
        "X_scaled = scaler.fit(X).transform(X)\n",
        "X_scaled\n"
      ],
      "execution_count": null,
      "outputs": [
        {
          "output_type": "execute_result",
          "data": {
            "text/plain": [
              "array([[0.89073462, 0.80987235, 0.8779829 , ..., 0.72740866, 0.82026832,\n",
              "        0.85913693],\n",
              "       [0.10258527, 0.78723745, 0.21941259, ..., 0.24100718, 0.04457839,\n",
              "        0.07310273],\n",
              "       [0.09913998, 0.71626466, 0.2556253 , ..., 0.26721914, 0.07971828,\n",
              "        0.0609862 ],\n",
              "       ...,\n",
              "       [0.86894928, 0.75106377, 0.86598024, ..., 0.72631794, 0.8528543 ,\n",
              "        0.81182299],\n",
              "       [0.04370846, 0.46993384, 0.05424333, ..., 0.24168541, 0.27271645,\n",
              "        0.34996566],\n",
              "       [0.94234337, 0.87639288, 0.86258877, ..., 0.61200446, 0.75515142,\n",
              "        0.79526219]])"
            ]
          },
          "metadata": {
            "tags": []
          },
          "execution_count": 50
        }
      ]
    },
    {
      "cell_type": "code",
      "metadata": {
        "colab": {
          "base_uri": "https://localhost:8080/"
        },
        "id": "5a7rfmeMIF-O",
        "outputId": "3d7478ee-2aa1-40ed-98aa-9705ca9180ba"
      },
      "source": [
        "print(X_scaled[0])    # for reference"
      ],
      "execution_count": null,
      "outputs": [
        {
          "output_type": "stream",
          "text": [
            "[0.89073462 0.80987235 0.8779829  0.71654357 0.90861604 0.83052713\n",
            " 0.8518387  0.87368383 0.78048193 0.83263085 0.87148368 0.6727923\n",
            " 0.72740866 0.82026832 0.85913693]\n"
          ],
          "name": "stdout"
        }
      ]
    },
    {
      "cell_type": "code",
      "metadata": {
        "colab": {
          "base_uri": "https://localhost:8080/"
        },
        "id": "iOkDl7DVIMyL",
        "outputId": "9766b04c-8f40-45a4-af5c-79341c367fe1"
      },
      "source": [
        "from sklearn.feature_selection import SelectKBest, chi2 \n",
        "\n",
        "X_new = SelectKBest(chi2, k=5).fit_transform(X_scaled, y)\n",
        "X_new"
      ],
      "execution_count": null,
      "outputs": [
        {
          "output_type": "execute_result",
          "data": {
            "text/plain": [
              "array([[0.89073462, 0.8779829 , 0.71654357, 0.87368383, 0.78048193],\n",
              "       [0.10258527, 0.21941259, 0.93923052, 0.03176728, 0.07591281],\n",
              "       [0.09913998, 0.2556253 , 0.92452282, 0.06231308, 0.08937904],\n",
              "       ...,\n",
              "       [0.86894928, 0.86598024, 0.73817325, 0.88009701, 0.76335731],\n",
              "       [0.04370846, 0.05424333, 0.08953574, 0.11858609, 0.56500229],\n",
              "       [0.94234337, 0.86258877, 0.71981219, 0.86702489, 0.79852367]])"
            ]
          },
          "metadata": {
            "tags": []
          },
          "execution_count": 52
        }
      ]
    },
    {
      "cell_type": "code",
      "metadata": {
        "colab": {
          "base_uri": "https://localhost:8080/"
        },
        "id": "iEvwLQhuIf_z",
        "outputId": "9dd12355-8f87-48f6-9800-12e72e0e19f5"
      },
      "source": [
        "print(X_new[0])"
      ],
      "execution_count": null,
      "outputs": [
        {
          "output_type": "stream",
          "text": [
            "[0.89073462 0.8779829  0.71654357 0.87368383 0.78048193]\n"
          ],
          "name": "stdout"
        }
      ]
    },
    {
      "cell_type": "markdown",
      "metadata": {
        "id": "hEfwB4t8Ijfk"
      },
      "source": [
        "If we compare the above result with the first row of the scaled data, we can map the column names as : ACDHI"
      ]
    },
    {
      "cell_type": "markdown",
      "metadata": {
        "id": "F9JAXhecI2XM"
      },
      "source": [
        "Therefore, based on the selecting features on distance similarity, we have come up with the 5 best features to choose for our model : [A, C, D, H, I]. Let us try to build our pipeline using these new features only. "
      ]
    },
    {
      "cell_type": "code",
      "metadata": {
        "colab": {
          "base_uri": "https://localhost:8080/",
          "height": 204
        },
        "id": "qSTMUF87JOO9",
        "outputId": "4d4e6c4c-c5b9-410b-9188-8068a2fb067d"
      },
      "source": [
        "new_df = df_copy[['A', 'C', 'D', 'H', 'I', 'Class']]\n",
        "new_df.head()"
      ],
      "execution_count": null,
      "outputs": [
        {
          "output_type": "execute_result",
          "data": {
            "text/html": [
              "<div>\n",
              "<style scoped>\n",
              "    .dataframe tbody tr th:only-of-type {\n",
              "        vertical-align: middle;\n",
              "    }\n",
              "\n",
              "    .dataframe tbody tr th {\n",
              "        vertical-align: top;\n",
              "    }\n",
              "\n",
              "    .dataframe thead th {\n",
              "        text-align: right;\n",
              "    }\n",
              "</style>\n",
              "<table border=\"1\" class=\"dataframe\">\n",
              "  <thead>\n",
              "    <tr style=\"text-align: right;\">\n",
              "      <th></th>\n",
              "      <th>A</th>\n",
              "      <th>C</th>\n",
              "      <th>D</th>\n",
              "      <th>H</th>\n",
              "      <th>I</th>\n",
              "      <th>Class</th>\n",
              "    </tr>\n",
              "  </thead>\n",
              "  <tbody>\n",
              "    <tr>\n",
              "      <th>0</th>\n",
              "      <td>231.420023</td>\n",
              "      <td>217.624839</td>\n",
              "      <td>-15.611916</td>\n",
              "      <td>198.160805</td>\n",
              "      <td>82.873279</td>\n",
              "      <td>2</td>\n",
              "    </tr>\n",
              "    <tr>\n",
              "      <th>1</th>\n",
              "      <td>-38.019270</td>\n",
              "      <td>9.583547</td>\n",
              "      <td>22.293822</td>\n",
              "      <td>-33.711852</td>\n",
              "      <td>-8.356041</td>\n",
              "      <td>3</td>\n",
              "    </tr>\n",
              "    <tr>\n",
              "      <th>2</th>\n",
              "      <td>-39.197085</td>\n",
              "      <td>21.023083</td>\n",
              "      <td>19.790280</td>\n",
              "      <td>-25.299219</td>\n",
              "      <td>-6.612401</td>\n",
              "      <td>2</td>\n",
              "    </tr>\n",
              "    <tr>\n",
              "      <th>3</th>\n",
              "      <td>221.630408</td>\n",
              "      <td>216.725322</td>\n",
              "      <td>-9.900781</td>\n",
              "      <td>197.640135</td>\n",
              "      <td>82.560019</td>\n",
              "      <td>2</td>\n",
              "    </tr>\n",
              "    <tr>\n",
              "      <th>4</th>\n",
              "      <td>228.558412</td>\n",
              "      <td>204.637218</td>\n",
              "      <td>-13.277704</td>\n",
              "      <td>209.300011</td>\n",
              "      <td>89.961688</td>\n",
              "      <td>3</td>\n",
              "    </tr>\n",
              "  </tbody>\n",
              "</table>\n",
              "</div>"
            ],
            "text/plain": [
              "            A           C          D           H          I  Class\n",
              "0  231.420023  217.624839 -15.611916  198.160805  82.873279      2\n",
              "1  -38.019270    9.583547  22.293822  -33.711852  -8.356041      3\n",
              "2  -39.197085   21.023083  19.790280  -25.299219  -6.612401      2\n",
              "3  221.630408  216.725322  -9.900781  197.640135  82.560019      2\n",
              "4  228.558412  204.637218 -13.277704  209.300011  89.961688      3"
            ]
          },
          "metadata": {
            "tags": []
          },
          "execution_count": 56
        }
      ]
    },
    {
      "cell_type": "code",
      "metadata": {
        "id": "oJpeQMOKJZnq"
      },
      "source": [
        "X_new = new_df.drop(['Class'], axis=1)\n",
        "y_new = new_df['Class']\n",
        "\n",
        "X_new_train, X_new_test, y_new_train, y_new_test = train_test_split(X_new, y_new, stratify=y, test_size=0.2)\n"
      ],
      "execution_count": null,
      "outputs": []
    },
    {
      "cell_type": "code",
      "metadata": {
        "colab": {
          "base_uri": "https://localhost:8080/"
        },
        "id": "bnPQ1G4sJ1mq",
        "outputId": "95f02b31-aaeb-4484-bc6c-cb8bc392af1f"
      },
      "source": [
        "## Decision Tree Pipeline \n",
        "\n",
        "pipeline_dt_new = Pipeline([('scalar',StandardScaler()),\n",
        "                     ('pca',PCA(n_components=2)),\n",
        "                     ('dt_classifier',DecisionTreeClassifier(max_depth=3))])\n",
        "\n",
        "pipeline_dt.fit(X_new_train, y_new_train)\n",
        "pipeline_dt.score(X_new_test, y_new_test)\n"
      ],
      "execution_count": null,
      "outputs": [
        {
          "output_type": "execute_result",
          "data": {
            "text/plain": [
              "0.4993208333333333"
            ]
          },
          "metadata": {
            "tags": []
          },
          "execution_count": 58
        }
      ]
    },
    {
      "cell_type": "markdown",
      "metadata": {
        "id": "cLt03GssKDdm"
      },
      "source": [
        "Unfortunately, we do not notice any improvements in accuracy using the K-Best distance similarity metric to reduce the number of features to the most important features."
      ]
    },
    {
      "cell_type": "markdown",
      "metadata": {
        "id": "AmijZPO3KPVw"
      },
      "source": [
        "My next approach was to try different model pipelines on the data and see if I can receive a better accuracy. The models I tried were : \n",
        "- Logistic Regression \n",
        "- Decision Tree Classifier\n",
        "- Random Forest Classifier \n",
        "- Naive-Bayes Classifier \n"
      ]
    },
    {
      "cell_type": "code",
      "metadata": {
        "colab": {
          "base_uri": "https://localhost:8080/"
        },
        "id": "mGwXyywbMLvM",
        "outputId": "6a16c944-2179-4efc-d90c-a7dba7740f80"
      },
      "source": [
        "## Creating pipelines for the different classifiers \n",
        "\n",
        "## Logistic Regression \n",
        "\n",
        "pipeline_lr=Pipeline([('scalar1',StandardScaler()),\n",
        "                     ('pca1',PCA(n_components=2)),\n",
        "                     ('lr_classifier',LogisticRegression(random_state=10))])\n",
        "\n",
        "pipeline_lr.fit(X_train, y_train)\n",
        "score = pipeline_lr.score(X_test, y_test)\n",
        "pred = pipeline_lr.predict(X_test)\n",
        "acc = metrics.accuracy_score(y_test, pred)\n",
        "print('Classification report:')\n",
        "print(metrics.classification_report(y_test, pred))\n",
        "print('Accuracy score: ', acc)"
      ],
      "execution_count": null,
      "outputs": [
        {
          "output_type": "stream",
          "text": [
            "/usr/local/lib/python3.7/dist-packages/sklearn/utils/validation.py:760: DataConversionWarning: A column-vector y was passed when a 1d array was expected. Please change the shape of y to (n_samples, ), for example using ravel().\n",
            "  y = column_or_1d(y, warn=True)\n"
          ],
          "name": "stderr"
        },
        {
          "output_type": "stream",
          "text": [
            "Score : 0.4991777777777778\n",
            "Classification report:\n"
          ],
          "name": "stdout"
        },
        {
          "output_type": "stream",
          "text": [
            "/usr/local/lib/python3.7/dist-packages/sklearn/metrics/_classification.py:1272: UndefinedMetricWarning: Precision and F-score are ill-defined and being set to 0.0 in labels with no predicted samples. Use `zero_division` parameter to control this behavior.\n",
            "  _warn_prf(average, modifier, msg_start, len(result))\n"
          ],
          "name": "stderr"
        },
        {
          "output_type": "stream",
          "text": [
            "              precision    recall  f1-score   support\n",
            "\n",
            "           1       0.00      0.00      0.00     59804\n",
            "           2       0.50      1.00      0.67    179704\n",
            "           3       0.00      0.00      0.00    120492\n",
            "\n",
            "    accuracy                           0.50    360000\n",
            "   macro avg       0.17      0.33      0.22    360000\n",
            "weighted avg       0.25      0.50      0.33    360000\n",
            "\n",
            "Accuracy:  0.4991777777777778\n"
          ],
          "name": "stdout"
        }
      ]
    },
    {
      "cell_type": "code",
      "metadata": {
        "colab": {
          "base_uri": "https://localhost:8080/"
        },
        "id": "4rhAJSvWMeLu",
        "outputId": "b4597533-2051-4d3b-8faf-56c0c41a92a3"
      },
      "source": [
        "## Decision Tree \n",
        "\n",
        "pipeline_dt=Pipeline([('scalar2',StandardScaler()),\n",
        "                     ('pca2',PCA(n_components=2)),\n",
        "                     ('dt_classifier',DecisionTreeClassifier(max_depth=3, random_state=0))])\n",
        "\n",
        "pipeline_dt.fit(X_train, y_train)\n",
        "score2 = pipeline_dt.score(X_test, y_test)\n",
        "pred2 = pipeline_dt.predict(X_test)\n",
        "acc2 = metrics.accuracy_score(y_test, pred2)\n",
        "print('Classification report:')\n",
        "print(metrics.classification_report(y_test, pred2))\n",
        "print('Accuracy score: ', acc2)"
      ],
      "execution_count": null,
      "outputs": [
        {
          "output_type": "stream",
          "text": [
            "Classification report:\n"
          ],
          "name": "stdout"
        },
        {
          "output_type": "stream",
          "text": [
            "/usr/local/lib/python3.7/dist-packages/sklearn/metrics/_classification.py:1272: UndefinedMetricWarning: Precision and F-score are ill-defined and being set to 0.0 in labels with no predicted samples. Use `zero_division` parameter to control this behavior.\n",
            "  _warn_prf(average, modifier, msg_start, len(result))\n"
          ],
          "name": "stderr"
        },
        {
          "output_type": "stream",
          "text": [
            "              precision    recall  f1-score   support\n",
            "\n",
            "           1       0.00      0.00      0.00     59804\n",
            "           2       0.50      1.00      0.67    179704\n",
            "           3       0.25      0.00      0.00    120492\n",
            "\n",
            "    accuracy                           0.50    360000\n",
            "   macro avg       0.25      0.33      0.22    360000\n",
            "weighted avg       0.33      0.50      0.33    360000\n",
            "\n",
            "Accuracy score:  0.49917222222222224\n"
          ],
          "name": "stdout"
        }
      ]
    },
    {
      "cell_type": "code",
      "metadata": {
        "colab": {
          "base_uri": "https://localhost:8080/"
        },
        "id": "vDcliVfpOSSc",
        "outputId": "08723e98-c19f-425c-be1d-e9a2fff24bca"
      },
      "source": [
        "## Random Forest \n",
        "\n",
        "pipeline_rf = Pipeline([('scalar3',StandardScaler()),\n",
        "                     ('pca3',PCA(n_components=2)),\n",
        "                     ('rf_classifier',RandomForestClassifier(max_depth=5, n_estimators=5))])\n",
        "\n",
        "pipeline_rf.fit(X_train, y_train)\n",
        "score3 = pipeline_rf.score(X_test, y_test)\n",
        "pred3 = pipeline_rf.predict(X_test)\n",
        "acc3 = metrics.accuracy_score(y_test, pred3)\n",
        "print('Classification report:')\n",
        "print(metrics.classification_report(y_test, pred3))\n",
        "print('Accuracy score: ', acc3)"
      ],
      "execution_count": null,
      "outputs": [
        {
          "output_type": "stream",
          "text": [
            "/usr/local/lib/python3.7/dist-packages/sklearn/pipeline.py:354: DataConversionWarning: A column-vector y was passed when a 1d array was expected. Please change the shape of y to (n_samples,), for example using ravel().\n",
            "  self._final_estimator.fit(Xt, y, **fit_params)\n"
          ],
          "name": "stderr"
        },
        {
          "output_type": "stream",
          "text": [
            "Classification report:\n",
            "              precision    recall  f1-score   support\n",
            "\n",
            "           1       0.12      0.00      0.00     59804\n",
            "           2       0.50      1.00      0.67    179704\n",
            "           3       0.33      0.00      0.00    120492\n",
            "\n",
            "    accuracy                           0.50    360000\n",
            "   macro avg       0.32      0.33      0.22    360000\n",
            "weighted avg       0.38      0.50      0.33    360000\n",
            "\n",
            "Accuracy score:  0.4991388888888889\n"
          ],
          "name": "stdout"
        }
      ]
    },
    {
      "cell_type": "code",
      "metadata": {
        "colab": {
          "base_uri": "https://localhost:8080/"
        },
        "id": "8OV6Oq1xOwO-",
        "outputId": "d5f13037-19c8-4590-b42f-180bc6eb3a1b"
      },
      "source": [
        "## Naive Bayes Classifier \n",
        "\n",
        "pipeline_nb=Pipeline([('scalar4',StandardScaler()),\n",
        "                     ('pca4',PCA(n_components=2)),\n",
        "                     ('nb_classifier',GaussianNB())])\n",
        "\n",
        "pipeline_nb.fit(X_train, y_train)\n",
        "score4 = pipeline_nb.score(X_test, y_test)\n",
        "pred4 = pipeline_nb.predict(X_test)\n",
        "acc4 = metrics.accuracy_score(y_test, pred4)\n",
        "print('Classification report:')\n",
        "print(metrics.classification_report(y_test, pred4))\n",
        "print('Accuracy score: ', acc4)"
      ],
      "execution_count": null,
      "outputs": [
        {
          "output_type": "stream",
          "text": [
            "/usr/local/lib/python3.7/dist-packages/sklearn/naive_bayes.py:206: DataConversionWarning: A column-vector y was passed when a 1d array was expected. Please change the shape of y to (n_samples, ), for example using ravel().\n",
            "  y = column_or_1d(y, warn=True)\n"
          ],
          "name": "stderr"
        },
        {
          "output_type": "stream",
          "text": [
            "Classification report:\n"
          ],
          "name": "stdout"
        },
        {
          "output_type": "stream",
          "text": [
            "/usr/local/lib/python3.7/dist-packages/sklearn/metrics/_classification.py:1272: UndefinedMetricWarning: Precision and F-score are ill-defined and being set to 0.0 in labels with no predicted samples. Use `zero_division` parameter to control this behavior.\n",
            "  _warn_prf(average, modifier, msg_start, len(result))\n"
          ],
          "name": "stderr"
        },
        {
          "output_type": "stream",
          "text": [
            "              precision    recall  f1-score   support\n",
            "\n",
            "           1       0.00      0.00      0.00     59804\n",
            "           2       0.50      1.00      0.67    179704\n",
            "           3       0.00      0.00      0.00    120492\n",
            "\n",
            "    accuracy                           0.50    360000\n",
            "   macro avg       0.17      0.33      0.22    360000\n",
            "weighted avg       0.25      0.50      0.33    360000\n",
            "\n",
            "Accuracy score:  0.4991777777777778\n"
          ],
          "name": "stdout"
        }
      ]
    },
    {
      "cell_type": "markdown",
      "metadata": {
        "id": "nwXH0N1yPVDM"
      },
      "source": [
        "We note that changing the model gives us very similar results. This is probably due to the fact that there were no evident correlations to learn between the features and the target varaible and hence changing the type of learning function or the shape of the line of fit would not necessarily improve the model. "
      ]
    },
    {
      "cell_type": "markdown",
      "metadata": {
        "id": "DDRwfmpjQNxG"
      },
      "source": [
        "### *Treating the multi-class classification problem as several binary classification problems*"
      ]
    },
    {
      "cell_type": "markdown",
      "metadata": {
        "id": "0C_CfRthQrG0"
      },
      "source": [
        "The next thing I tried was to split the multi-calss classification procedure into steps of binary classifications. Implying to train a model to learn to classify instances to 'Class A' and 'Not Class A' instead of 'Class A', 'Class B', and 'Class C'. Similarly for 'Class B'/'Class C' and 'not Class B/not Class C'. \n",
        "\n",
        "Model 1 : [1, not 1]   \n",
        "Model 2 : [2, not 2]  \n",
        "Model 3 : [3, not 3]  "
      ]
    },
    {
      "cell_type": "markdown",
      "metadata": {
        "id": "enk9LLqaRo2f"
      },
      "source": [
        "Let us first try to build a model that can classify instances into 'Class 1' and 'not Class 1' "
      ]
    },
    {
      "cell_type": "code",
      "metadata": {
        "id": "nv3tRhu3YAbg"
      },
      "source": [
        "df_copy.loc[(df_copy['Class'] == 2) | (df_copy['Class'] == 3), 'Class' ] = 0\n"
      ],
      "execution_count": null,
      "outputs": []
    },
    {
      "cell_type": "code",
      "metadata": {
        "colab": {
          "base_uri": "https://localhost:8080/",
          "height": 224
        },
        "id": "2W3YcqYLZcHc",
        "outputId": "9636093e-54e0-4788-f81b-00d056d61ae3"
      },
      "source": [
        "df_copy.head()"
      ],
      "execution_count": null,
      "outputs": [
        {
          "output_type": "execute_result",
          "data": {
            "text/html": [
              "<div>\n",
              "<style scoped>\n",
              "    .dataframe tbody tr th:only-of-type {\n",
              "        vertical-align: middle;\n",
              "    }\n",
              "\n",
              "    .dataframe tbody tr th {\n",
              "        vertical-align: top;\n",
              "    }\n",
              "\n",
              "    .dataframe thead th {\n",
              "        text-align: right;\n",
              "    }\n",
              "</style>\n",
              "<table border=\"1\" class=\"dataframe\">\n",
              "  <thead>\n",
              "    <tr style=\"text-align: right;\">\n",
              "      <th></th>\n",
              "      <th>A</th>\n",
              "      <th>B</th>\n",
              "      <th>C</th>\n",
              "      <th>D</th>\n",
              "      <th>E</th>\n",
              "      <th>F</th>\n",
              "      <th>G</th>\n",
              "      <th>H</th>\n",
              "      <th>I</th>\n",
              "      <th>J</th>\n",
              "      <th>K</th>\n",
              "      <th>L</th>\n",
              "      <th>M</th>\n",
              "      <th>N</th>\n",
              "      <th>O</th>\n",
              "      <th>Class</th>\n",
              "    </tr>\n",
              "  </thead>\n",
              "  <tbody>\n",
              "    <tr>\n",
              "      <th>0</th>\n",
              "      <td>231.420023</td>\n",
              "      <td>-12.210984</td>\n",
              "      <td>217.624839</td>\n",
              "      <td>-15.611916</td>\n",
              "      <td>140.047185</td>\n",
              "      <td>76.904999</td>\n",
              "      <td>131.591871</td>\n",
              "      <td>198.160805</td>\n",
              "      <td>82.873279</td>\n",
              "      <td>127.350084</td>\n",
              "      <td>224.592926</td>\n",
              "      <td>-5.992983</td>\n",
              "      <td>-14.689648</td>\n",
              "      <td>143.072058</td>\n",
              "      <td>153.439659</td>\n",
              "      <td>0</td>\n",
              "    </tr>\n",
              "    <tr>\n",
              "      <th>1</th>\n",
              "      <td>-38.019270</td>\n",
              "      <td>-14.195695</td>\n",
              "      <td>9.583547</td>\n",
              "      <td>22.293822</td>\n",
              "      <td>-25.578283</td>\n",
              "      <td>-18.373955</td>\n",
              "      <td>-0.094457</td>\n",
              "      <td>-33.711852</td>\n",
              "      <td>-8.356041</td>\n",
              "      <td>23.792402</td>\n",
              "      <td>4.199023</td>\n",
              "      <td>2.809159</td>\n",
              "      <td>-59.330681</td>\n",
              "      <td>-11.685950</td>\n",
              "      <td>1.317104</td>\n",
              "      <td>0</td>\n",
              "    </tr>\n",
              "    <tr>\n",
              "      <th>2</th>\n",
              "      <td>-39.197085</td>\n",
              "      <td>-20.418850</td>\n",
              "      <td>21.023083</td>\n",
              "      <td>19.790280</td>\n",
              "      <td>-25.902587</td>\n",
              "      <td>-19.189004</td>\n",
              "      <td>-2.953836</td>\n",
              "      <td>-25.299219</td>\n",
              "      <td>-6.612401</td>\n",
              "      <td>26.285392</td>\n",
              "      <td>5.911292</td>\n",
              "      <td>6.191587</td>\n",
              "      <td>-56.924996</td>\n",
              "      <td>-4.675187</td>\n",
              "      <td>-1.027830</td>\n",
              "      <td>0</td>\n",
              "    </tr>\n",
              "    <tr>\n",
              "      <th>3</th>\n",
              "      <td>221.630408</td>\n",
              "      <td>-5.785352</td>\n",
              "      <td>216.725322</td>\n",
              "      <td>-9.900781</td>\n",
              "      <td>126.795177</td>\n",
              "      <td>85.122288</td>\n",
              "      <td>108.857593</td>\n",
              "      <td>197.640135</td>\n",
              "      <td>82.560019</td>\n",
              "      <td>157.105143</td>\n",
              "      <td>212.989231</td>\n",
              "      <td>-3.621070</td>\n",
              "      <td>-15.469156</td>\n",
              "      <td>135.265859</td>\n",
              "      <td>149.212489</td>\n",
              "      <td>0</td>\n",
              "    </tr>\n",
              "    <tr>\n",
              "      <th>4</th>\n",
              "      <td>228.558412</td>\n",
              "      <td>-12.447710</td>\n",
              "      <td>204.637218</td>\n",
              "      <td>-13.277704</td>\n",
              "      <td>138.930529</td>\n",
              "      <td>91.101870</td>\n",
              "      <td>115.598954</td>\n",
              "      <td>209.300011</td>\n",
              "      <td>89.961688</td>\n",
              "      <td>130.299732</td>\n",
              "      <td>201.795100</td>\n",
              "      <td>-1.573922</td>\n",
              "      <td>-15.128603</td>\n",
              "      <td>148.368622</td>\n",
              "      <td>147.492663</td>\n",
              "      <td>0</td>\n",
              "    </tr>\n",
              "  </tbody>\n",
              "</table>\n",
              "</div>"
            ],
            "text/plain": [
              "            A          B           C  ...           N           O  Class\n",
              "0  231.420023 -12.210984  217.624839  ...  143.072058  153.439659      0\n",
              "1  -38.019270 -14.195695    9.583547  ...  -11.685950    1.317104      0\n",
              "2  -39.197085 -20.418850   21.023083  ...   -4.675187   -1.027830      0\n",
              "3  221.630408  -5.785352  216.725322  ...  135.265859  149.212489      0\n",
              "4  228.558412 -12.447710  204.637218  ...  148.368622  147.492663      0\n",
              "\n",
              "[5 rows x 16 columns]"
            ]
          },
          "metadata": {
            "tags": []
          },
          "execution_count": 69
        }
      ]
    },
    {
      "cell_type": "code",
      "metadata": {
        "id": "8nT30jDBZhDz"
      },
      "source": [
        "df_1 = df_copy"
      ],
      "execution_count": null,
      "outputs": []
    },
    {
      "cell_type": "code",
      "metadata": {
        "colab": {
          "base_uri": "https://localhost:8080/"
        },
        "id": "0tZ-sP6PZmRQ",
        "outputId": "e0a517b5-8957-475d-8fc8-482cd930e958"
      },
      "source": [
        "df_1['Class'].unique()"
      ],
      "execution_count": null,
      "outputs": [
        {
          "output_type": "execute_result",
          "data": {
            "text/plain": [
              "array([0, 1])"
            ]
          },
          "metadata": {
            "tags": []
          },
          "execution_count": 72
        }
      ]
    },
    {
      "cell_type": "code",
      "metadata": {
        "id": "z9m6ubdeZp3i"
      },
      "source": [
        "X1 = df_1.drop(['Class'], axis=1)\n",
        "y1 = df_1['Class']"
      ],
      "execution_count": null,
      "outputs": []
    },
    {
      "cell_type": "code",
      "metadata": {
        "colab": {
          "base_uri": "https://localhost:8080/"
        },
        "id": "ejeWPndtZt9U",
        "outputId": "f9f74417-c29f-4a78-e9a9-909e99f11c1f"
      },
      "source": [
        "X_train1, X_test1, y_train1, y_test1 = train_test_split(X1, y1, stratify=y, test_size=0.2)\n",
        "\n",
        "pipeline_rf1 = Pipeline([('scaler',StandardScaler()),\n",
        "                     ('pca',PCA(n_components=2)),\n",
        "                     ('rf_classifier',RandomForestClassifier(max_depth=5))])\n",
        "\n",
        "pipeline_rf1.fit(X_train1, y_train1)\n",
        "pipeline_rf1.score(X_test1, y_test1)"
      ],
      "execution_count": null,
      "outputs": [
        {
          "output_type": "execute_result",
          "data": {
            "text/plain": [
              "0.8333416666666666"
            ]
          },
          "metadata": {
            "tags": []
          },
          "execution_count": 75
        }
      ]
    },
    {
      "cell_type": "markdown",
      "metadata": {
        "id": "t_I5wscPZ-td"
      },
      "source": [
        "We see a better perfromance in the model pipeline when we train it on a single target class by considering the other two classes as a single entity (In this case, 1 and not 1. "
      ]
    },
    {
      "cell_type": "markdown",
      "metadata": {
        "id": "865GhE8GbNAl"
      },
      "source": [
        "Let us now try and model for classes 2 and 3."
      ]
    },
    {
      "cell_type": "code",
      "metadata": {
        "colab": {
          "base_uri": "https://localhost:8080/",
          "height": 224
        },
        "id": "BkjCG018bgs8",
        "outputId": "5c2cbe32-da40-43c6-b1e2-2ac71fcea6aa"
      },
      "source": [
        "df_original.head()"
      ],
      "execution_count": null,
      "outputs": [
        {
          "output_type": "execute_result",
          "data": {
            "text/html": [
              "<div>\n",
              "<style scoped>\n",
              "    .dataframe tbody tr th:only-of-type {\n",
              "        vertical-align: middle;\n",
              "    }\n",
              "\n",
              "    .dataframe tbody tr th {\n",
              "        vertical-align: top;\n",
              "    }\n",
              "\n",
              "    .dataframe thead th {\n",
              "        text-align: right;\n",
              "    }\n",
              "</style>\n",
              "<table border=\"1\" class=\"dataframe\">\n",
              "  <thead>\n",
              "    <tr style=\"text-align: right;\">\n",
              "      <th></th>\n",
              "      <th>A</th>\n",
              "      <th>B</th>\n",
              "      <th>C</th>\n",
              "      <th>D</th>\n",
              "      <th>E</th>\n",
              "      <th>F</th>\n",
              "      <th>G</th>\n",
              "      <th>H</th>\n",
              "      <th>I</th>\n",
              "      <th>J</th>\n",
              "      <th>K</th>\n",
              "      <th>L</th>\n",
              "      <th>M</th>\n",
              "      <th>N</th>\n",
              "      <th>O</th>\n",
              "      <th>Class</th>\n",
              "    </tr>\n",
              "  </thead>\n",
              "  <tbody>\n",
              "    <tr>\n",
              "      <th>0</th>\n",
              "      <td>231.420023</td>\n",
              "      <td>-12.210984</td>\n",
              "      <td>217.624839</td>\n",
              "      <td>-15.611916</td>\n",
              "      <td>140.047185</td>\n",
              "      <td>76.904999</td>\n",
              "      <td>131.591871</td>\n",
              "      <td>198.160805</td>\n",
              "      <td>82.873279</td>\n",
              "      <td>127.350084</td>\n",
              "      <td>224.592926</td>\n",
              "      <td>-5.992983</td>\n",
              "      <td>-14.689648</td>\n",
              "      <td>143.072058</td>\n",
              "      <td>153.439659</td>\n",
              "      <td>2</td>\n",
              "    </tr>\n",
              "    <tr>\n",
              "      <th>1</th>\n",
              "      <td>-38.019270</td>\n",
              "      <td>-14.195695</td>\n",
              "      <td>9.583547</td>\n",
              "      <td>22.293822</td>\n",
              "      <td>-25.578283</td>\n",
              "      <td>-18.373955</td>\n",
              "      <td>-0.094457</td>\n",
              "      <td>-33.711852</td>\n",
              "      <td>-8.356041</td>\n",
              "      <td>23.792402</td>\n",
              "      <td>4.199023</td>\n",
              "      <td>2.809159</td>\n",
              "      <td>-59.330681</td>\n",
              "      <td>-11.685950</td>\n",
              "      <td>1.317104</td>\n",
              "      <td>3</td>\n",
              "    </tr>\n",
              "    <tr>\n",
              "      <th>2</th>\n",
              "      <td>-39.197085</td>\n",
              "      <td>-20.418850</td>\n",
              "      <td>21.023083</td>\n",
              "      <td>19.790280</td>\n",
              "      <td>-25.902587</td>\n",
              "      <td>-19.189004</td>\n",
              "      <td>-2.953836</td>\n",
              "      <td>-25.299219</td>\n",
              "      <td>-6.612401</td>\n",
              "      <td>26.285392</td>\n",
              "      <td>5.911292</td>\n",
              "      <td>6.191587</td>\n",
              "      <td>-56.924996</td>\n",
              "      <td>-4.675187</td>\n",
              "      <td>-1.027830</td>\n",
              "      <td>2</td>\n",
              "    </tr>\n",
              "    <tr>\n",
              "      <th>3</th>\n",
              "      <td>221.630408</td>\n",
              "      <td>-5.785352</td>\n",
              "      <td>216.725322</td>\n",
              "      <td>-9.900781</td>\n",
              "      <td>126.795177</td>\n",
              "      <td>85.122288</td>\n",
              "      <td>108.857593</td>\n",
              "      <td>197.640135</td>\n",
              "      <td>82.560019</td>\n",
              "      <td>157.105143</td>\n",
              "      <td>212.989231</td>\n",
              "      <td>-3.621070</td>\n",
              "      <td>-15.469156</td>\n",
              "      <td>135.265859</td>\n",
              "      <td>149.212489</td>\n",
              "      <td>2</td>\n",
              "    </tr>\n",
              "    <tr>\n",
              "      <th>4</th>\n",
              "      <td>228.558412</td>\n",
              "      <td>-12.447710</td>\n",
              "      <td>204.637218</td>\n",
              "      <td>-13.277704</td>\n",
              "      <td>138.930529</td>\n",
              "      <td>91.101870</td>\n",
              "      <td>115.598954</td>\n",
              "      <td>209.300011</td>\n",
              "      <td>89.961688</td>\n",
              "      <td>130.299732</td>\n",
              "      <td>201.795100</td>\n",
              "      <td>-1.573922</td>\n",
              "      <td>-15.128603</td>\n",
              "      <td>148.368622</td>\n",
              "      <td>147.492663</td>\n",
              "      <td>3</td>\n",
              "    </tr>\n",
              "  </tbody>\n",
              "</table>\n",
              "</div>"
            ],
            "text/plain": [
              "            A          B           C  ...           N           O  Class\n",
              "0  231.420023 -12.210984  217.624839  ...  143.072058  153.439659      2\n",
              "1  -38.019270 -14.195695    9.583547  ...  -11.685950    1.317104      3\n",
              "2  -39.197085 -20.418850   21.023083  ...   -4.675187   -1.027830      2\n",
              "3  221.630408  -5.785352  216.725322  ...  135.265859  149.212489      2\n",
              "4  228.558412 -12.447710  204.637218  ...  148.368622  147.492663      3\n",
              "\n",
              "[5 rows x 16 columns]"
            ]
          },
          "metadata": {
            "tags": []
          },
          "execution_count": 77
        }
      ]
    },
    {
      "cell_type": "code",
      "metadata": {
        "id": "jiPhkP29blib"
      },
      "source": [
        "df_2 = df_original.copy()"
      ],
      "execution_count": null,
      "outputs": []
    },
    {
      "cell_type": "code",
      "metadata": {
        "id": "YCz5uHhKbxMq"
      },
      "source": [
        "df_2.loc[(df_2['Class'] == 1) | (df_2['Class'] == 3), 'Class' ] = 0\n"
      ],
      "execution_count": null,
      "outputs": []
    },
    {
      "cell_type": "code",
      "metadata": {
        "colab": {
          "base_uri": "https://localhost:8080/",
          "height": 224
        },
        "id": "f3rWVerQb38i",
        "outputId": "ba06d557-3515-4b98-c128-f85e4da03601"
      },
      "source": [
        "df_2.head() "
      ],
      "execution_count": null,
      "outputs": [
        {
          "output_type": "execute_result",
          "data": {
            "text/html": [
              "<div>\n",
              "<style scoped>\n",
              "    .dataframe tbody tr th:only-of-type {\n",
              "        vertical-align: middle;\n",
              "    }\n",
              "\n",
              "    .dataframe tbody tr th {\n",
              "        vertical-align: top;\n",
              "    }\n",
              "\n",
              "    .dataframe thead th {\n",
              "        text-align: right;\n",
              "    }\n",
              "</style>\n",
              "<table border=\"1\" class=\"dataframe\">\n",
              "  <thead>\n",
              "    <tr style=\"text-align: right;\">\n",
              "      <th></th>\n",
              "      <th>A</th>\n",
              "      <th>B</th>\n",
              "      <th>C</th>\n",
              "      <th>D</th>\n",
              "      <th>E</th>\n",
              "      <th>F</th>\n",
              "      <th>G</th>\n",
              "      <th>H</th>\n",
              "      <th>I</th>\n",
              "      <th>J</th>\n",
              "      <th>K</th>\n",
              "      <th>L</th>\n",
              "      <th>M</th>\n",
              "      <th>N</th>\n",
              "      <th>O</th>\n",
              "      <th>Class</th>\n",
              "    </tr>\n",
              "  </thead>\n",
              "  <tbody>\n",
              "    <tr>\n",
              "      <th>0</th>\n",
              "      <td>231.420023</td>\n",
              "      <td>-12.210984</td>\n",
              "      <td>217.624839</td>\n",
              "      <td>-15.611916</td>\n",
              "      <td>140.047185</td>\n",
              "      <td>76.904999</td>\n",
              "      <td>131.591871</td>\n",
              "      <td>198.160805</td>\n",
              "      <td>82.873279</td>\n",
              "      <td>127.350084</td>\n",
              "      <td>224.592926</td>\n",
              "      <td>-5.992983</td>\n",
              "      <td>-14.689648</td>\n",
              "      <td>143.072058</td>\n",
              "      <td>153.439659</td>\n",
              "      <td>2</td>\n",
              "    </tr>\n",
              "    <tr>\n",
              "      <th>1</th>\n",
              "      <td>-38.019270</td>\n",
              "      <td>-14.195695</td>\n",
              "      <td>9.583547</td>\n",
              "      <td>22.293822</td>\n",
              "      <td>-25.578283</td>\n",
              "      <td>-18.373955</td>\n",
              "      <td>-0.094457</td>\n",
              "      <td>-33.711852</td>\n",
              "      <td>-8.356041</td>\n",
              "      <td>23.792402</td>\n",
              "      <td>4.199023</td>\n",
              "      <td>2.809159</td>\n",
              "      <td>-59.330681</td>\n",
              "      <td>-11.685950</td>\n",
              "      <td>1.317104</td>\n",
              "      <td>0</td>\n",
              "    </tr>\n",
              "    <tr>\n",
              "      <th>2</th>\n",
              "      <td>-39.197085</td>\n",
              "      <td>-20.418850</td>\n",
              "      <td>21.023083</td>\n",
              "      <td>19.790280</td>\n",
              "      <td>-25.902587</td>\n",
              "      <td>-19.189004</td>\n",
              "      <td>-2.953836</td>\n",
              "      <td>-25.299219</td>\n",
              "      <td>-6.612401</td>\n",
              "      <td>26.285392</td>\n",
              "      <td>5.911292</td>\n",
              "      <td>6.191587</td>\n",
              "      <td>-56.924996</td>\n",
              "      <td>-4.675187</td>\n",
              "      <td>-1.027830</td>\n",
              "      <td>2</td>\n",
              "    </tr>\n",
              "    <tr>\n",
              "      <th>3</th>\n",
              "      <td>221.630408</td>\n",
              "      <td>-5.785352</td>\n",
              "      <td>216.725322</td>\n",
              "      <td>-9.900781</td>\n",
              "      <td>126.795177</td>\n",
              "      <td>85.122288</td>\n",
              "      <td>108.857593</td>\n",
              "      <td>197.640135</td>\n",
              "      <td>82.560019</td>\n",
              "      <td>157.105143</td>\n",
              "      <td>212.989231</td>\n",
              "      <td>-3.621070</td>\n",
              "      <td>-15.469156</td>\n",
              "      <td>135.265859</td>\n",
              "      <td>149.212489</td>\n",
              "      <td>2</td>\n",
              "    </tr>\n",
              "    <tr>\n",
              "      <th>4</th>\n",
              "      <td>228.558412</td>\n",
              "      <td>-12.447710</td>\n",
              "      <td>204.637218</td>\n",
              "      <td>-13.277704</td>\n",
              "      <td>138.930529</td>\n",
              "      <td>91.101870</td>\n",
              "      <td>115.598954</td>\n",
              "      <td>209.300011</td>\n",
              "      <td>89.961688</td>\n",
              "      <td>130.299732</td>\n",
              "      <td>201.795100</td>\n",
              "      <td>-1.573922</td>\n",
              "      <td>-15.128603</td>\n",
              "      <td>148.368622</td>\n",
              "      <td>147.492663</td>\n",
              "      <td>0</td>\n",
              "    </tr>\n",
              "  </tbody>\n",
              "</table>\n",
              "</div>"
            ],
            "text/plain": [
              "            A          B           C  ...           N           O  Class\n",
              "0  231.420023 -12.210984  217.624839  ...  143.072058  153.439659      2\n",
              "1  -38.019270 -14.195695    9.583547  ...  -11.685950    1.317104      0\n",
              "2  -39.197085 -20.418850   21.023083  ...   -4.675187   -1.027830      2\n",
              "3  221.630408  -5.785352  216.725322  ...  135.265859  149.212489      2\n",
              "4  228.558412 -12.447710  204.637218  ...  148.368622  147.492663      0\n",
              "\n",
              "[5 rows x 16 columns]"
            ]
          },
          "metadata": {
            "tags": []
          },
          "execution_count": 84
        }
      ]
    },
    {
      "cell_type": "code",
      "metadata": {
        "colab": {
          "base_uri": "https://localhost:8080/"
        },
        "id": "HwdUaNrVb4ya",
        "outputId": "0134e838-a490-4a57-d056-c9ac77aa78a6"
      },
      "source": [
        "df_2['Class'].unique()"
      ],
      "execution_count": null,
      "outputs": [
        {
          "output_type": "execute_result",
          "data": {
            "text/plain": [
              "array([2, 0])"
            ]
          },
          "metadata": {
            "tags": []
          },
          "execution_count": 85
        }
      ]
    },
    {
      "cell_type": "code",
      "metadata": {
        "id": "XeYkzyzHb71_"
      },
      "source": [
        "X2 = df_2.drop(['Class'], axis=1)\n",
        "y2 = df_2['Class']"
      ],
      "execution_count": null,
      "outputs": []
    },
    {
      "cell_type": "code",
      "metadata": {
        "colab": {
          "base_uri": "https://localhost:8080/"
        },
        "id": "tW_BoDgkcD5m",
        "outputId": "53c93568-6c8c-4ae7-bccd-714a98e80dcf"
      },
      "source": [
        "X_train2, X_test2, y_train2, y_test2 = train_test_split(X2, y2, stratify=y, test_size=0.2)\n",
        "\n",
        "pipeline_rf2 = Pipeline([('scaler',StandardScaler()),\n",
        "                     ('pca',PCA(n_components=2)),\n",
        "                     ('rf_classifier',RandomForestClassifier(max_depth=5))])\n",
        "\n",
        "pipeline_rf2.fit(X_train2, y_train2)\n",
        "pipeline_rf2.score(X_test2, y_test2)"
      ],
      "execution_count": null,
      "outputs": [
        {
          "output_type": "execute_result",
          "data": {
            "text/plain": [
              "0.499975"
            ]
          },
          "metadata": {
            "tags": []
          },
          "execution_count": 87
        }
      ]
    },
    {
      "cell_type": "code",
      "metadata": {
        "colab": {
          "base_uri": "https://localhost:8080/"
        },
        "id": "dsbsR4Y0cNI6",
        "outputId": "fe6c8d5d-57f4-4e9d-d1a8-b41f7c0a7559"
      },
      "source": [
        "df_3 = df_original.copy()\n",
        "df_3.loc[(df_3['Class'] == 1) | (df_3['Class'] == 2), 'Class' ] = 0\n",
        "df_3['Class'].unique()"
      ],
      "execution_count": null,
      "outputs": [
        {
          "output_type": "execute_result",
          "data": {
            "text/plain": [
              "array([0, 3])"
            ]
          },
          "metadata": {
            "tags": []
          },
          "execution_count": 88
        }
      ]
    },
    {
      "cell_type": "code",
      "metadata": {
        "id": "5RSqS3T5dIe_"
      },
      "source": [
        "X3 = df_3.drop(['Class'], axis=1)\n",
        "y3 = df_3['Class']"
      ],
      "execution_count": null,
      "outputs": []
    },
    {
      "cell_type": "code",
      "metadata": {
        "colab": {
          "base_uri": "https://localhost:8080/"
        },
        "id": "M0J1-LWOdMfd",
        "outputId": "1b9c0d3e-1526-4895-de40-570303a0dfbe"
      },
      "source": [
        "X_train3, X_test3, y_train3, y_test3 = train_test_split(X3, y3, stratify=y, test_size=0.2)\n",
        "\n",
        "pipeline_rf3 = Pipeline([('scaler',StandardScaler()),\n",
        "                     ('pca',PCA(n_components=2)),\n",
        "                     ('rf_classifier',RandomForestClassifier(max_depth=5))])\n",
        "\n",
        "pipeline_rf3.fit(X_train3, y_train3)\n",
        "pipeline_rf3.score(X_test3, y_test3)"
      ],
      "execution_count": null,
      "outputs": [
        {
          "output_type": "execute_result",
          "data": {
            "text/plain": [
              "0.6660166666666667"
            ]
          },
          "metadata": {
            "tags": []
          },
          "execution_count": 92
        }
      ]
    },
    {
      "cell_type": "markdown",
      "metadata": {
        "id": "LS-VuNyDdVWt"
      },
      "source": [
        "As we can see, training binary classifiers on our data seems to improve the accuracy to a certain extent. \n",
        "\n",
        "Model accuracies :\n",
        "\n",
        "- 1 and not 1 : 83.33%\n",
        "- 2 and not 2 : 49.99%\n",
        "- 3 and not 3 : 66.6%"
      ]
    },
    {
      "cell_type": "markdown",
      "metadata": {
        "id": "v3RPDFvjhyM4"
      },
      "source": [
        "Let us now combine these pipelines into a single model pipeline that can hopefully fit the entire dataset. We use sklearn's VotingClassifier to combine  multiple models."
      ]
    },
    {
      "cell_type": "code",
      "metadata": {
        "id": "gjPfEXnCfBtU"
      },
      "source": [
        "from sklearn.ensemble import VotingClassifier\n",
        "\n",
        "vclf = VotingClassifier(estimators = [('rf1', pipeline_rf1), ('rf2', pipeline_rf2), ('rf3', pipeline_rf3)], voting='hard')\n"
      ],
      "execution_count": null,
      "outputs": []
    },
    {
      "cell_type": "code",
      "metadata": {
        "colab": {
          "base_uri": "https://localhost:8080/"
        },
        "id": "IJ6bKVQcf0Sp",
        "outputId": "20799476-b153-4d04-8a97-c9ebb0759032"
      },
      "source": [
        "vclf.fit(X_train, y_train)\n",
        "vclf.score(X_test, y_test)"
      ],
      "execution_count": null,
      "outputs": [
        {
          "output_type": "stream",
          "text": [
            "/usr/local/lib/python3.7/dist-packages/sklearn/preprocessing/_label.py:235: DataConversionWarning: A column-vector y was passed when a 1d array was expected. Please change the shape of y to (n_samples, ), for example using ravel().\n",
            "  y = column_or_1d(y, warn=True)\n",
            "/usr/local/lib/python3.7/dist-packages/sklearn/preprocessing/_label.py:268: DataConversionWarning: A column-vector y was passed when a 1d array was expected. Please change the shape of y to (n_samples, ), for example using ravel().\n",
            "  y = column_or_1d(y, warn=True)\n"
          ],
          "name": "stderr"
        },
        {
          "output_type": "execute_result",
          "data": {
            "text/plain": [
              "0.4991777777777778"
            ]
          },
          "metadata": {
            "tags": []
          },
          "execution_count": 95
        }
      ]
    },
    {
      "cell_type": "code",
      "metadata": {
        "colab": {
          "base_uri": "https://localhost:8080/"
        },
        "id": "RqEgMQA-f2FR",
        "outputId": "f67c7805-e82b-4e08-837b-e0a15652392e"
      },
      "source": [
        "pipeline_vclf = Pipeline([('scaler',StandardScaler()),\n",
        "                     ('pca',PCA(n_components=2)),\n",
        "                     ('vclf_classifier',VotingClassifier(estimators=[('rf1', pipeline_rf1), ('rf2', pipeline_rf2), ('rf3', pipeline_rf3)], voting='hard'))])\n",
        "\n",
        "pipeline_vclf.fit(X_train, y_train)\n",
        "pipeline_vclf.score(X_test, y_test)"
      ],
      "execution_count": null,
      "outputs": [
        {
          "output_type": "stream",
          "text": [
            "/usr/local/lib/python3.7/dist-packages/sklearn/preprocessing/_label.py:235: DataConversionWarning: A column-vector y was passed when a 1d array was expected. Please change the shape of y to (n_samples, ), for example using ravel().\n",
            "  y = column_or_1d(y, warn=True)\n",
            "/usr/local/lib/python3.7/dist-packages/sklearn/preprocessing/_label.py:268: DataConversionWarning: A column-vector y was passed when a 1d array was expected. Please change the shape of y to (n_samples, ), for example using ravel().\n",
            "  y = column_or_1d(y, warn=True)\n"
          ],
          "name": "stderr"
        },
        {
          "output_type": "execute_result",
          "data": {
            "text/plain": [
              "0.4991777777777778"
            ]
          },
          "metadata": {
            "tags": []
          },
          "execution_count": 97
        }
      ]
    },
    {
      "cell_type": "markdown",
      "metadata": {
        "id": "66C0pvDJihS_"
      },
      "source": [
        "Now, my hypotesis was that considering the fact that most of the instances in our main dataset are classified into class 2, we could create two binary classification models : one that classifies instances for just targets 'class 2' and 'not class 2' and another model that classifies 'class 1' and 'class 3'. And then combining these two models to make predictions on our main dataset could help create a working model. "
      ]
    },
    {
      "cell_type": "code",
      "metadata": {
        "colab": {
          "base_uri": "https://localhost:8080/"
        },
        "id": "MPE56GKBkjuN",
        "outputId": "43a5badf-dcae-4e8d-d30f-ac96cc785de5"
      },
      "source": [
        "## Model to classify 1 and 3 \n",
        "\n",
        "df_13 = df_original.copy()\n",
        "df_13.drop(df_13[df_13['Class'] == 2].index, inplace=True)\n",
        "df_13['Class'].unique()"
      ],
      "execution_count": null,
      "outputs": [
        {
          "output_type": "execute_result",
          "data": {
            "text/plain": [
              "array([3, 1])"
            ]
          },
          "metadata": {
            "tags": []
          },
          "execution_count": 109
        }
      ]
    },
    {
      "cell_type": "code",
      "metadata": {
        "colab": {
          "base_uri": "https://localhost:8080/"
        },
        "id": "PGpj0S8enCDe",
        "outputId": "25186fd6-d868-44b9-c501-b7d7642d6eda"
      },
      "source": [
        "len(df_13)"
      ],
      "execution_count": null,
      "outputs": [
        {
          "output_type": "execute_result",
          "data": {
            "text/plain": [
              "600772"
            ]
          },
          "metadata": {
            "tags": []
          },
          "execution_count": 110
        }
      ]
    },
    {
      "cell_type": "code",
      "metadata": {
        "id": "NZmD286LlEMg"
      },
      "source": [
        "X13 = df_13.drop(['Class'], axis=1)\n",
        "y13 = df_13['Class']"
      ],
      "execution_count": null,
      "outputs": []
    },
    {
      "cell_type": "code",
      "metadata": {
        "id": "jFjMXfm7nJU2"
      },
      "source": [
        "X_train13, X_test13, y_train13, y_test13 = train_test_split(X13, y13, test_size=0.2)\n"
      ],
      "execution_count": null,
      "outputs": []
    },
    {
      "cell_type": "code",
      "metadata": {
        "colab": {
          "base_uri": "https://localhost:8080/"
        },
        "id": "f5neuu1ylOqg",
        "outputId": "d9bc2bd9-6d34-4b9d-b01a-6b553a001322"
      },
      "source": [
        "X_train13, X_test13, y_train13, y_test13 = train_test_split(X13, y13,test_size=0.2)\n",
        "\n",
        "pipeline_rf13 = Pipeline([('scaler',StandardScaler()),\n",
        "                     ('pca',PCA(n_components=2)),\n",
        "                     ('rf_classifier',RandomForestClassifier(max_depth=5))])\n",
        "\n",
        "pipeline_rf13.fit(X_train13, y_train13)\n",
        "pipeline_rf13.score(X_test13, y_test13)"
      ],
      "execution_count": null,
      "outputs": [
        {
          "output_type": "execute_result",
          "data": {
            "text/plain": [
              "0.6686613124713912"
            ]
          },
          "metadata": {
            "tags": []
          },
          "execution_count": 116
        }
      ]
    },
    {
      "cell_type": "markdown",
      "metadata": {
        "id": "gmwVNdKXlhhy"
      },
      "source": [
        "Now, we combine this model with the one that was able to classify class 2 alone and model the train dataset."
      ]
    },
    {
      "cell_type": "code",
      "metadata": {
        "colab": {
          "base_uri": "https://localhost:8080/"
        },
        "id": "RIw2GV91nxsU",
        "outputId": "59ab361f-b85f-404e-efe2-059299cdf6b8"
      },
      "source": [
        "pipeline_vclf = Pipeline([('scaler',StandardScaler()),\n",
        "                     ('pca',PCA(n_components=2)),\n",
        "                     ('vclf_classifier',VotingClassifier(estimators=[('rf13', pipeline_rf13), ('rf2', pipeline_rf2)], voting='hard'))])\n",
        "\n",
        "pipeline_vclf.fit(X_train, y_train)\n",
        "pipeline_vclf.score(X_test, y_test)"
      ],
      "execution_count": null,
      "outputs": [
        {
          "output_type": "stream",
          "text": [
            "/usr/local/lib/python3.7/dist-packages/sklearn/preprocessing/_label.py:235: DataConversionWarning: A column-vector y was passed when a 1d array was expected. Please change the shape of y to (n_samples, ), for example using ravel().\n",
            "  y = column_or_1d(y, warn=True)\n",
            "/usr/local/lib/python3.7/dist-packages/sklearn/preprocessing/_label.py:268: DataConversionWarning: A column-vector y was passed when a 1d array was expected. Please change the shape of y to (n_samples, ), for example using ravel().\n",
            "  y = column_or_1d(y, warn=True)\n"
          ],
          "name": "stderr"
        },
        {
          "output_type": "execute_result",
          "data": {
            "text/plain": [
              "0.4991777777777778"
            ]
          },
          "metadata": {
            "tags": []
          },
          "execution_count": 117
        }
      ]
    },
    {
      "cell_type": "markdown",
      "metadata": {
        "id": "mJqjH0ngA9G6"
      },
      "source": [
        "We notice the same accuracy as before."
      ]
    },
    {
      "cell_type": "markdown",
      "metadata": {
        "id": "kfs8oB8aoArd"
      },
      "source": [
        "Finally, I tried to combine the models that can classify [Class 2, Class 3], [Class 2, Class 1] and [Class 1 and Class3] "
      ]
    },
    {
      "cell_type": "code",
      "metadata": {
        "colab": {
          "base_uri": "https://localhost:8080/"
        },
        "id": "ecVpRRjrsRrF",
        "outputId": "3cb67dca-5548-47be-9990-b5f53ec46585"
      },
      "source": [
        "## Class 1 and Class 2\n",
        "\n",
        "df_12 = df_original.copy()\n",
        "df_12.drop(df_12[df_12['Class'] == 3].index, inplace=True)\n",
        "df_12['Class'].unique()"
      ],
      "execution_count": null,
      "outputs": [
        {
          "output_type": "execute_result",
          "data": {
            "text/plain": [
              "array([2, 1])"
            ]
          },
          "metadata": {
            "tags": []
          },
          "execution_count": 123
        }
      ]
    },
    {
      "cell_type": "code",
      "metadata": {
        "id": "waUrK3E5slRv"
      },
      "source": [
        "X12 = df_12.drop(['Class'], axis=1)\n",
        "y12 = df_12['Class']"
      ],
      "execution_count": null,
      "outputs": []
    },
    {
      "cell_type": "code",
      "metadata": {
        "id": "q_L0yM2QsZov"
      },
      "source": [
        "X_train12, X_test12, y_train12, y_test12 = train_test_split(X12, y12, test_size=0.2)\n"
      ],
      "execution_count": null,
      "outputs": []
    },
    {
      "cell_type": "code",
      "metadata": {
        "colab": {
          "base_uri": "https://localhost:8080/"
        },
        "id": "rpDrnbmfsib3",
        "outputId": "6dd161a0-2bd1-4bbd-e2e0-0b8cab78b114"
      },
      "source": [
        "X_train12, X_test12, y_train12, y_test12 = train_test_split(X12, y12,test_size=0.2)\n",
        "\n",
        "pipeline_rf12 = Pipeline([('scaler',StandardScaler()),\n",
        "                     ('pca',PCA(n_components=2)),\n",
        "                     ('rf_classifier',RandomForestClassifier(max_depth=5))])\n",
        "\n",
        "pipeline_rf12.fit(X_train12, y_train12)\n",
        "pipeline_rf12.score(X_test12, y_test12)"
      ],
      "execution_count": null,
      "outputs": [
        {
          "output_type": "execute_result",
          "data": {
            "text/plain": [
              "0.7499499512024224"
            ]
          },
          "metadata": {
            "tags": []
          },
          "execution_count": 126
        }
      ]
    },
    {
      "cell_type": "code",
      "metadata": {
        "colab": {
          "base_uri": "https://localhost:8080/"
        },
        "id": "xg4TN457swWL",
        "outputId": "b831400c-c3a5-4111-e5dc-f36329f2d15d"
      },
      "source": [
        "## Class 2 and 3 \n",
        "\n",
        "df_23 = df_original.copy()\n",
        "df_23.drop(df_23[df_23['Class'] == 1].index, inplace=True)\n",
        "df_23['Class'].unique()"
      ],
      "execution_count": null,
      "outputs": [
        {
          "output_type": "execute_result",
          "data": {
            "text/plain": [
              "array([2, 3])"
            ]
          },
          "metadata": {
            "tags": []
          },
          "execution_count": 128
        }
      ]
    },
    {
      "cell_type": "code",
      "metadata": {
        "id": "VLR1zHOSt6ZB"
      },
      "source": [
        "X23 = df_23.drop(['Class'], axis=1)\n",
        "y23 = df_23['Class']"
      ],
      "execution_count": null,
      "outputs": []
    },
    {
      "cell_type": "code",
      "metadata": {
        "id": "dX9pVvltuCq4"
      },
      "source": [
        "X_train23, X_test23, y_train23, y_test23 = train_test_split(X23, y23, test_size=0.2)\n"
      ],
      "execution_count": null,
      "outputs": []
    },
    {
      "cell_type": "code",
      "metadata": {
        "colab": {
          "base_uri": "https://localhost:8080/"
        },
        "id": "CI-D-8kxuJca",
        "outputId": "59dd9abc-2897-4917-9a3b-f78c5bffc6bc"
      },
      "source": [
        "X_train23, X_test23, y_train23, y_test23 = train_test_split(X23, y23,test_size=0.2)\n",
        "\n",
        "pipeline_rf23 = Pipeline([('scaler',StandardScaler()),\n",
        "                     ('pca',PCA(n_components=2)),\n",
        "                     ('rf_classifier',RandomForestClassifier(max_depth=5))])\n",
        "\n",
        "pipeline_rf23.fit(X_train23, y_train23)\n",
        "pipeline_rf23.score(X_test23, y_test23)"
      ],
      "execution_count": null,
      "outputs": [
        {
          "output_type": "execute_result",
          "data": {
            "text/plain": [
              "0.5996990030099699"
            ]
          },
          "metadata": {
            "tags": []
          },
          "execution_count": 131
        }
      ]
    },
    {
      "cell_type": "markdown",
      "metadata": {
        "id": "aVN1ug7zuWIE"
      },
      "source": [
        "Now we combine the three models."
      ]
    },
    {
      "cell_type": "markdown",
      "metadata": {
        "id": "i5qjKqibyV3a"
      },
      "source": [
        "## **Final Model**"
      ]
    },
    {
      "cell_type": "code",
      "metadata": {
        "colab": {
          "base_uri": "https://localhost:8080/"
        },
        "id": "I06M0prRulez",
        "outputId": "93d72007-0b23-4b21-abf2-dc1499315ec2"
      },
      "source": [
        "pipeline_vclf123 = Pipeline([('scaler',StandardScaler()),\n",
        "                     ('pca',PCA(n_components=2)),\n",
        "                     ('vclf_classifier',VotingClassifier(estimators=[('rf13', pipeline_rf13), ('rf12', pipeline_rf12), ('rf23', pipeline_rf23)], voting='hard'))])\n",
        "\n",
        "pipeline_vclf.fit(X_train, y_train)\n",
        "pipeline_vclf.score(X_test, y_test)"
      ],
      "execution_count": null,
      "outputs": [
        {
          "output_type": "stream",
          "text": [
            "/usr/local/lib/python3.7/dist-packages/sklearn/preprocessing/_label.py:235: DataConversionWarning: A column-vector y was passed when a 1d array was expected. Please change the shape of y to (n_samples, ), for example using ravel().\n",
            "  y = column_or_1d(y, warn=True)\n",
            "/usr/local/lib/python3.7/dist-packages/sklearn/preprocessing/_label.py:268: DataConversionWarning: A column-vector y was passed when a 1d array was expected. Please change the shape of y to (n_samples, ), for example using ravel().\n",
            "  y = column_or_1d(y, warn=True)\n"
          ],
          "name": "stderr"
        },
        {
          "output_type": "execute_result",
          "data": {
            "text/plain": [
              "0.4991777777777778"
            ]
          },
          "metadata": {
            "tags": []
          },
          "execution_count": 133
        }
      ]
    },
    {
      "cell_type": "markdown",
      "metadata": {
        "id": "NV13T7XEu0ih"
      },
      "source": [
        "This is the final model that we will use to make predictions."
      ]
    },
    {
      "cell_type": "markdown",
      "metadata": {
        "id": "QjQd-93Ivy5E"
      },
      "source": [
        "### ONNX"
      ]
    },
    {
      "cell_type": "code",
      "metadata": {
        "colab": {
          "base_uri": "https://localhost:8080/",
          "height": 477
        },
        "id": "Zcp8vhz6wO2i",
        "outputId": "bf36917b-cf9f-4fcc-fe2e-5c1b90676ba3"
      },
      "source": [
        "from skl2onnx import  convert_sklearn\n",
        "from skl2onnx.common.data_types import FloatTensorType\n",
        "\n",
        "onnx_model_path = '/content/drive/MyDrive/Datasets/AkhilSrinath_final_model.onnx'\n",
        "\n",
        "num_features = 15\n",
        "initial_type = [('float_input', FloatTensorType([None, num_features]))]\n",
        "onx = convert_sklearn(pipeline_vclf123, initial_types=initial_type)\n",
        "with open(onnx_model_path, 'wb') as f:\n",
        "  f.write(onx.SerializeToString())"
      ],
      "execution_count": null,
      "outputs": [
        {
          "output_type": "error",
          "ename": "RuntimeError",
          "evalue": "ignored",
          "traceback": [
            "\u001b[0;31m---------------------------------------------------------------------------\u001b[0m",
            "\u001b[0;31mRuntimeError\u001b[0m                              Traceback (most recent call last)",
            "\u001b[0;32m/usr/local/lib/python3.7/dist-packages/skl2onnx/_parse.py\u001b[0m in \u001b[0;36mparse_sklearn\u001b[0;34m(scope, model, inputs, custom_parsers, final_types)\u001b[0m\n\u001b[1;32m    518\u001b[0m             outputs = _parse_sklearn(\n\u001b[0;32m--> 519\u001b[0;31m                 scope.temp(), model, inputs, custom_parsers=custom_parsers)\n\u001b[0m\u001b[1;32m    520\u001b[0m         \u001b[0;32mexcept\u001b[0m \u001b[0mRuntimeError\u001b[0m\u001b[0;34m:\u001b[0m\u001b[0;34m\u001b[0m\u001b[0;34m\u001b[0m\u001b[0m\n",
            "\u001b[0;32m/usr/local/lib/python3.7/dist-packages/skl2onnx/_parse.py\u001b[0m in \u001b[0;36m_parse_sklearn\u001b[0;34m(scope, model, inputs, custom_parsers, final_types)\u001b[0m\n\u001b[1;32m    486\u001b[0m         outputs = sklearn_parsers_map[tmodel](scope, model, inputs,\n\u001b[0;32m--> 487\u001b[0;31m                                               custom_parsers=custom_parsers)\n\u001b[0m\u001b[1;32m    488\u001b[0m     \u001b[0;32melif\u001b[0m \u001b[0misinstance\u001b[0m\u001b[0;34m(\u001b[0m\u001b[0mmodel\u001b[0m\u001b[0;34m,\u001b[0m \u001b[0mpipeline\u001b[0m\u001b[0;34m.\u001b[0m\u001b[0mPipeline\u001b[0m\u001b[0;34m)\u001b[0m\u001b[0;34m:\u001b[0m\u001b[0;34m\u001b[0m\u001b[0;34m\u001b[0m\u001b[0m\n",
            "\u001b[0;32m/usr/local/lib/python3.7/dist-packages/skl2onnx/_parse.py\u001b[0m in \u001b[0;36m_parse_sklearn_pipeline\u001b[0;34m(scope, model, inputs, custom_parsers)\u001b[0m\n\u001b[1;32m    195\u001b[0m         inputs = _parse_sklearn(scope, step[1], inputs,\n\u001b[0;32m--> 196\u001b[0;31m                                 custom_parsers=custom_parsers)\n\u001b[0m\u001b[1;32m    197\u001b[0m     \u001b[0;32mreturn\u001b[0m \u001b[0minputs\u001b[0m\u001b[0;34m\u001b[0m\u001b[0;34m\u001b[0m\u001b[0m\n",
            "\u001b[0;32m/usr/local/lib/python3.7/dist-packages/skl2onnx/_parse.py\u001b[0m in \u001b[0;36m_parse_sklearn\u001b[0;34m(scope, model, inputs, custom_parsers, final_types)\u001b[0m\n\u001b[1;32m    486\u001b[0m         outputs = sklearn_parsers_map[tmodel](scope, model, inputs,\n\u001b[0;32m--> 487\u001b[0;31m                                               custom_parsers=custom_parsers)\n\u001b[0m\u001b[1;32m    488\u001b[0m     \u001b[0;32melif\u001b[0m \u001b[0misinstance\u001b[0m\u001b[0;34m(\u001b[0m\u001b[0mmodel\u001b[0m\u001b[0;34m,\u001b[0m \u001b[0mpipeline\u001b[0m\u001b[0;34m.\u001b[0m\u001b[0mPipeline\u001b[0m\u001b[0;34m)\u001b[0m\u001b[0;34m:\u001b[0m\u001b[0;34m\u001b[0m\u001b[0;34m\u001b[0m\u001b[0m\n",
            "\u001b[0;32m/usr/local/lib/python3.7/dist-packages/skl2onnx/_parse.py\u001b[0m in \u001b[0;36m_parse_sklearn_classifier\u001b[0;34m(scope, model, inputs, custom_parsers)\u001b[0m\n\u001b[1;32m    350\u001b[0m         \u001b[0mthis_operator\u001b[0m \u001b[0;34m=\u001b[0m \u001b[0mscope\u001b[0m\u001b[0;34m.\u001b[0m\u001b[0mdeclare_local_operator\u001b[0m\u001b[0;34m(\u001b[0m\u001b[0;34m'SklearnZipMap'\u001b[0m\u001b[0;34m)\u001b[0m\u001b[0;34m\u001b[0m\u001b[0;34m\u001b[0m\u001b[0m\n\u001b[0;32m--> 351\u001b[0;31m         \u001b[0mclasses\u001b[0m \u001b[0;34m=\u001b[0m \u001b[0mget_label_classes\u001b[0m\u001b[0;34m(\u001b[0m\u001b[0mscope\u001b[0m\u001b[0;34m,\u001b[0m \u001b[0mmodel\u001b[0m\u001b[0;34m)\u001b[0m\u001b[0;34m\u001b[0m\u001b[0;34m\u001b[0m\u001b[0m\n\u001b[0m\u001b[1;32m    352\u001b[0m \u001b[0;34m\u001b[0m\u001b[0m\n",
            "\u001b[0;32m/usr/local/lib/python3.7/dist-packages/skl2onnx/common/utils_classifier.py\u001b[0m in \u001b[0;36mget_label_classes\u001b[0;34m(scope, op, node_names)\u001b[0m\n\u001b[1;32m     44\u001b[0m             \u001b[0;34m\"No known ways to retrieve the number of classes for class %r.\"\u001b[0m\u001b[0;34m\u001b[0m\u001b[0;34m\u001b[0m\u001b[0m\n\u001b[0;32m---> 45\u001b[0;31m             \"\" % type(op))\n\u001b[0m\u001b[1;32m     46\u001b[0m     \u001b[0;32mreturn\u001b[0m \u001b[0mclasses\u001b[0m\u001b[0;34m\u001b[0m\u001b[0;34m\u001b[0m\u001b[0m\n",
            "\u001b[0;31mRuntimeError\u001b[0m: No known ways to retrieve the number of classes for class <class 'sklearn.ensemble._voting.VotingClassifier'>.",
            "\nDuring handling of the above exception, another exception occurred:\n",
            "\u001b[0;31mRuntimeError\u001b[0m                              Traceback (most recent call last)",
            "\u001b[0;32m<ipython-input-137-5b4706d96fca>\u001b[0m in \u001b[0;36m<module>\u001b[0;34m()\u001b[0m\n\u001b[1;32m      6\u001b[0m \u001b[0mnum_features\u001b[0m \u001b[0;34m=\u001b[0m \u001b[0;36m15\u001b[0m\u001b[0;34m\u001b[0m\u001b[0;34m\u001b[0m\u001b[0m\n\u001b[1;32m      7\u001b[0m \u001b[0minitial_type\u001b[0m \u001b[0;34m=\u001b[0m \u001b[0;34m[\u001b[0m\u001b[0;34m(\u001b[0m\u001b[0;34m'float_input'\u001b[0m\u001b[0;34m,\u001b[0m \u001b[0mFloatTensorType\u001b[0m\u001b[0;34m(\u001b[0m\u001b[0;34m[\u001b[0m\u001b[0;32mNone\u001b[0m\u001b[0;34m,\u001b[0m \u001b[0mnum_features\u001b[0m\u001b[0;34m]\u001b[0m\u001b[0;34m)\u001b[0m\u001b[0;34m)\u001b[0m\u001b[0;34m]\u001b[0m\u001b[0;34m\u001b[0m\u001b[0;34m\u001b[0m\u001b[0m\n\u001b[0;32m----> 8\u001b[0;31m \u001b[0monx\u001b[0m \u001b[0;34m=\u001b[0m \u001b[0mconvert_sklearn\u001b[0m\u001b[0;34m(\u001b[0m\u001b[0mpipeline_vclf123\u001b[0m\u001b[0;34m,\u001b[0m \u001b[0minitial_types\u001b[0m\u001b[0;34m=\u001b[0m\u001b[0minitial_type\u001b[0m\u001b[0;34m)\u001b[0m\u001b[0;34m\u001b[0m\u001b[0;34m\u001b[0m\u001b[0m\n\u001b[0m\u001b[1;32m      9\u001b[0m \u001b[0;32mwith\u001b[0m \u001b[0mopen\u001b[0m\u001b[0;34m(\u001b[0m\u001b[0monnx_model_path\u001b[0m\u001b[0;34m,\u001b[0m \u001b[0;34m'wb'\u001b[0m\u001b[0;34m)\u001b[0m \u001b[0;32mas\u001b[0m \u001b[0mf\u001b[0m\u001b[0;34m:\u001b[0m\u001b[0;34m\u001b[0m\u001b[0;34m\u001b[0m\u001b[0m\n\u001b[1;32m     10\u001b[0m   \u001b[0mf\u001b[0m\u001b[0;34m.\u001b[0m\u001b[0mwrite\u001b[0m\u001b[0;34m(\u001b[0m\u001b[0monx\u001b[0m\u001b[0;34m.\u001b[0m\u001b[0mSerializeToString\u001b[0m\u001b[0;34m(\u001b[0m\u001b[0;34m)\u001b[0m\u001b[0;34m)\u001b[0m\u001b[0;34m\u001b[0m\u001b[0;34m\u001b[0m\u001b[0m\n",
            "\u001b[0;32m/usr/local/lib/python3.7/dist-packages/skl2onnx/convert.py\u001b[0m in \u001b[0;36mconvert_sklearn\u001b[0;34m(model, name, initial_types, doc_string, target_opset, custom_conversion_functions, custom_shape_calculators, custom_parsers, options, intermediate, white_op, black_op, final_types, dtype)\u001b[0m\n\u001b[1;32m    151\u001b[0m         \u001b[0mcustom_shape_calculators\u001b[0m\u001b[0;34m,\u001b[0m \u001b[0mcustom_parsers\u001b[0m\u001b[0;34m,\u001b[0m \u001b[0moptions\u001b[0m\u001b[0;34m=\u001b[0m\u001b[0moptions\u001b[0m\u001b[0;34m,\u001b[0m\u001b[0;34m\u001b[0m\u001b[0;34m\u001b[0m\u001b[0m\n\u001b[1;32m    152\u001b[0m         \u001b[0mwhite_op\u001b[0m\u001b[0;34m=\u001b[0m\u001b[0mwhite_op\u001b[0m\u001b[0;34m,\u001b[0m \u001b[0mblack_op\u001b[0m\u001b[0;34m=\u001b[0m\u001b[0mblack_op\u001b[0m\u001b[0;34m,\u001b[0m\u001b[0;34m\u001b[0m\u001b[0;34m\u001b[0m\u001b[0m\n\u001b[0;32m--> 153\u001b[0;31m         final_types=final_types)\n\u001b[0m\u001b[1;32m    154\u001b[0m \u001b[0;34m\u001b[0m\u001b[0m\n\u001b[1;32m    155\u001b[0m     \u001b[0;31m# Infer variable shapes\u001b[0m\u001b[0;34m\u001b[0m\u001b[0;34m\u001b[0m\u001b[0;34m\u001b[0m\u001b[0m\n",
            "\u001b[0;32m/usr/local/lib/python3.7/dist-packages/skl2onnx/_parse.py\u001b[0m in \u001b[0;36mparse_sklearn_model\u001b[0;34m(model, initial_types, target_opset, custom_conversion_functions, custom_shape_calculators, custom_parsers, options, white_op, black_op, final_types)\u001b[0m\n\u001b[1;32m    623\u001b[0m     outputs = parse_sklearn(scope, model, inputs,\n\u001b[1;32m    624\u001b[0m                             \u001b[0mcustom_parsers\u001b[0m\u001b[0;34m=\u001b[0m\u001b[0mcustom_parsers\u001b[0m\u001b[0;34m,\u001b[0m\u001b[0;34m\u001b[0m\u001b[0;34m\u001b[0m\u001b[0m\n\u001b[0;32m--> 625\u001b[0;31m                             final_types=final_types)\n\u001b[0m\u001b[1;32m    626\u001b[0m \u001b[0;34m\u001b[0m\u001b[0m\n\u001b[1;32m    627\u001b[0m     \u001b[0;31m# The object raw_model_container is a part of the topology we're\u001b[0m\u001b[0;34m\u001b[0m\u001b[0;34m\u001b[0m\u001b[0;34m\u001b[0m\u001b[0m\n",
            "\u001b[0;32m/usr/local/lib/python3.7/dist-packages/skl2onnx/_parse.py\u001b[0m in \u001b[0;36mparse_sklearn\u001b[0;34m(scope, model, inputs, custom_parsers, final_types)\u001b[0m\n\u001b[1;32m    520\u001b[0m         \u001b[0;32mexcept\u001b[0m \u001b[0mRuntimeError\u001b[0m\u001b[0;34m:\u001b[0m\u001b[0;34m\u001b[0m\u001b[0;34m\u001b[0m\u001b[0m\n\u001b[1;32m    521\u001b[0m             return _parse_sklearn(\n\u001b[0;32m--> 522\u001b[0;31m                 scope, model, inputs, custom_parsers=custom_parsers)\n\u001b[0m\u001b[1;32m    523\u001b[0m \u001b[0;34m\u001b[0m\u001b[0m\n\u001b[1;32m    524\u001b[0m         \u001b[0mreserved\u001b[0m \u001b[0;34m=\u001b[0m \u001b[0;34m[\u001b[0m\u001b[0;34m]\u001b[0m\u001b[0;34m\u001b[0m\u001b[0;34m\u001b[0m\u001b[0m\n",
            "\u001b[0;32m/usr/local/lib/python3.7/dist-packages/skl2onnx/_parse.py\u001b[0m in \u001b[0;36m_parse_sklearn\u001b[0;34m(scope, model, inputs, custom_parsers, final_types)\u001b[0m\n\u001b[1;32m    485\u001b[0m     \u001b[0;32melif\u001b[0m \u001b[0mtmodel\u001b[0m \u001b[0;32min\u001b[0m \u001b[0msklearn_parsers_map\u001b[0m\u001b[0;34m:\u001b[0m\u001b[0;34m\u001b[0m\u001b[0;34m\u001b[0m\u001b[0m\n\u001b[1;32m    486\u001b[0m         outputs = sklearn_parsers_map[tmodel](scope, model, inputs,\n\u001b[0;32m--> 487\u001b[0;31m                                               custom_parsers=custom_parsers)\n\u001b[0m\u001b[1;32m    488\u001b[0m     \u001b[0;32melif\u001b[0m \u001b[0misinstance\u001b[0m\u001b[0;34m(\u001b[0m\u001b[0mmodel\u001b[0m\u001b[0;34m,\u001b[0m \u001b[0mpipeline\u001b[0m\u001b[0;34m.\u001b[0m\u001b[0mPipeline\u001b[0m\u001b[0;34m)\u001b[0m\u001b[0;34m:\u001b[0m\u001b[0;34m\u001b[0m\u001b[0;34m\u001b[0m\u001b[0m\n\u001b[1;32m    489\u001b[0m         \u001b[0mparser\u001b[0m \u001b[0;34m=\u001b[0m \u001b[0msklearn_parsers_map\u001b[0m\u001b[0;34m[\u001b[0m\u001b[0mpipeline\u001b[0m\u001b[0;34m.\u001b[0m\u001b[0mPipeline\u001b[0m\u001b[0;34m]\u001b[0m\u001b[0;34m\u001b[0m\u001b[0;34m\u001b[0m\u001b[0m\n",
            "\u001b[0;32m/usr/local/lib/python3.7/dist-packages/skl2onnx/_parse.py\u001b[0m in \u001b[0;36m_parse_sklearn_pipeline\u001b[0;34m(scope, model, inputs, custom_parsers)\u001b[0m\n\u001b[1;32m    194\u001b[0m     \u001b[0;32mfor\u001b[0m \u001b[0mstep\u001b[0m \u001b[0;32min\u001b[0m \u001b[0mmodel\u001b[0m\u001b[0;34m.\u001b[0m\u001b[0msteps\u001b[0m\u001b[0;34m:\u001b[0m\u001b[0;34m\u001b[0m\u001b[0;34m\u001b[0m\u001b[0m\n\u001b[1;32m    195\u001b[0m         inputs = _parse_sklearn(scope, step[1], inputs,\n\u001b[0;32m--> 196\u001b[0;31m                                 custom_parsers=custom_parsers)\n\u001b[0m\u001b[1;32m    197\u001b[0m     \u001b[0;32mreturn\u001b[0m \u001b[0minputs\u001b[0m\u001b[0;34m\u001b[0m\u001b[0;34m\u001b[0m\u001b[0m\n\u001b[1;32m    198\u001b[0m \u001b[0;34m\u001b[0m\u001b[0m\n",
            "\u001b[0;32m/usr/local/lib/python3.7/dist-packages/skl2onnx/_parse.py\u001b[0m in \u001b[0;36m_parse_sklearn\u001b[0;34m(scope, model, inputs, custom_parsers, final_types)\u001b[0m\n\u001b[1;32m    485\u001b[0m     \u001b[0;32melif\u001b[0m \u001b[0mtmodel\u001b[0m \u001b[0;32min\u001b[0m \u001b[0msklearn_parsers_map\u001b[0m\u001b[0;34m:\u001b[0m\u001b[0;34m\u001b[0m\u001b[0;34m\u001b[0m\u001b[0m\n\u001b[1;32m    486\u001b[0m         outputs = sklearn_parsers_map[tmodel](scope, model, inputs,\n\u001b[0;32m--> 487\u001b[0;31m                                               custom_parsers=custom_parsers)\n\u001b[0m\u001b[1;32m    488\u001b[0m     \u001b[0;32melif\u001b[0m \u001b[0misinstance\u001b[0m\u001b[0;34m(\u001b[0m\u001b[0mmodel\u001b[0m\u001b[0;34m,\u001b[0m \u001b[0mpipeline\u001b[0m\u001b[0;34m.\u001b[0m\u001b[0mPipeline\u001b[0m\u001b[0;34m)\u001b[0m\u001b[0;34m:\u001b[0m\u001b[0;34m\u001b[0m\u001b[0;34m\u001b[0m\u001b[0m\n\u001b[1;32m    489\u001b[0m         \u001b[0mparser\u001b[0m \u001b[0;34m=\u001b[0m \u001b[0msklearn_parsers_map\u001b[0m\u001b[0;34m[\u001b[0m\u001b[0mpipeline\u001b[0m\u001b[0;34m.\u001b[0m\u001b[0mPipeline\u001b[0m\u001b[0;34m]\u001b[0m\u001b[0;34m\u001b[0m\u001b[0;34m\u001b[0m\u001b[0m\n",
            "\u001b[0;32m/usr/local/lib/python3.7/dist-packages/skl2onnx/_parse.py\u001b[0m in \u001b[0;36m_parse_sklearn_classifier\u001b[0;34m(scope, model, inputs, custom_parsers)\u001b[0m\n\u001b[1;32m    349\u001b[0m     \u001b[0;32melse\u001b[0m\u001b[0;34m:\u001b[0m\u001b[0;34m\u001b[0m\u001b[0;34m\u001b[0m\u001b[0m\n\u001b[1;32m    350\u001b[0m         \u001b[0mthis_operator\u001b[0m \u001b[0;34m=\u001b[0m \u001b[0mscope\u001b[0m\u001b[0;34m.\u001b[0m\u001b[0mdeclare_local_operator\u001b[0m\u001b[0;34m(\u001b[0m\u001b[0;34m'SklearnZipMap'\u001b[0m\u001b[0;34m)\u001b[0m\u001b[0;34m\u001b[0m\u001b[0;34m\u001b[0m\u001b[0m\n\u001b[0;32m--> 351\u001b[0;31m         \u001b[0mclasses\u001b[0m \u001b[0;34m=\u001b[0m \u001b[0mget_label_classes\u001b[0m\u001b[0;34m(\u001b[0m\u001b[0mscope\u001b[0m\u001b[0;34m,\u001b[0m \u001b[0mmodel\u001b[0m\u001b[0;34m)\u001b[0m\u001b[0;34m\u001b[0m\u001b[0;34m\u001b[0m\u001b[0m\n\u001b[0m\u001b[1;32m    352\u001b[0m \u001b[0;34m\u001b[0m\u001b[0m\n\u001b[1;32m    353\u001b[0m     \u001b[0mthis_operator\u001b[0m\u001b[0;34m.\u001b[0m\u001b[0minputs\u001b[0m \u001b[0;34m=\u001b[0m \u001b[0mprobability_tensor\u001b[0m\u001b[0;34m\u001b[0m\u001b[0;34m\u001b[0m\u001b[0m\n",
            "\u001b[0;32m/usr/local/lib/python3.7/dist-packages/skl2onnx/common/utils_classifier.py\u001b[0m in \u001b[0;36mget_label_classes\u001b[0;34m(scope, op, node_names)\u001b[0m\n\u001b[1;32m     43\u001b[0m         raise RuntimeError(\n\u001b[1;32m     44\u001b[0m             \u001b[0;34m\"No known ways to retrieve the number of classes for class %r.\"\u001b[0m\u001b[0;34m\u001b[0m\u001b[0;34m\u001b[0m\u001b[0m\n\u001b[0;32m---> 45\u001b[0;31m             \"\" % type(op))\n\u001b[0m\u001b[1;32m     46\u001b[0m     \u001b[0;32mreturn\u001b[0m \u001b[0mclasses\u001b[0m\u001b[0;34m\u001b[0m\u001b[0;34m\u001b[0m\u001b[0m\n\u001b[1;32m     47\u001b[0m \u001b[0;34m\u001b[0m\u001b[0m\n",
            "\u001b[0;31mRuntimeError\u001b[0m: No known ways to retrieve the number of classes for class <class 'sklearn.ensemble._voting.VotingClassifier'>."
          ]
        }
      ]
    },
    {
      "cell_type": "markdown",
      "metadata": {
        "id": "Jx6PlUSFytJW"
      },
      "source": [
        "We observe that ONNX is having troubles converting the VotingClassifier model from sklearn. Hence, we use the RandomForestClassifier that we built initially to create the onnx file that can make predictions on our out-of-sample data. "
      ]
    },
    {
      "cell_type": "markdown",
      "metadata": {
        "id": "CziSZVOKzCnS"
      },
      "source": [
        "### Creating .onnx file "
      ]
    },
    {
      "cell_type": "code",
      "metadata": {
        "id": "2WfLQWbsxtnk"
      },
      "source": [
        "from skl2onnx import  convert_sklearn\n",
        "from skl2onnx.common.data_types import FloatTensorType\n",
        "\n",
        "onnx_model_path = '/content/drive/MyDrive/Datasets/AkhilSrinath_final_model.onnx'\n",
        "\n",
        "num_features = 15\n",
        "initial_type = [('float_input', FloatTensorType([None, num_features]))]\n",
        "onx = convert_sklearn(pipeline_rf, initial_types=initial_type)\n",
        "with open(onnx_model_path, 'wb') as f:\n",
        "  f.write(onx.SerializeToString())"
      ],
      "execution_count": null,
      "outputs": []
    },
    {
      "cell_type": "markdown",
      "metadata": {
        "id": "wv_fgVZLydf8"
      },
      "source": [
        "### Compute predictions with ONNX runtime"
      ]
    },
    {
      "cell_type": "code",
      "metadata": {
        "colab": {
          "base_uri": "https://localhost:8080/"
        },
        "id": "rJPY3uMqzI90",
        "outputId": "bbe5e592-b615-40d6-d0fb-48c01162ed58"
      },
      "source": [
        "import onnxruntime as rt\n",
        "import numpy\n",
        "\n",
        "sess = rt.InferenceSession(onnx_model_path)\n",
        "input_name = sess.get_inputs()[0].name\n",
        "label_name = sess.get_outputs()[0].name\n",
        "\n",
        "pred_onx = sess.run(None, {input_name: X_test.values.astype(np.float32)})[0]\n",
        "print(pred_onx)"
      ],
      "execution_count": null,
      "outputs": [
        {
          "output_type": "stream",
          "text": [
            "[2 2 2 ... 2 2 2]\n"
          ],
          "name": "stdout"
        }
      ]
    },
    {
      "cell_type": "markdown",
      "metadata": {
        "id": "0HcUtO2nzqDo"
      },
      "source": [
        "As we can see, the .onnx file is able to make predictions on out-of-sample data. "
      ]
    },
    {
      "cell_type": "markdown",
      "metadata": {
        "id": "IgeFI14n0th7"
      },
      "source": [
        "## **Conclusion**\n",
        "\n",
        "In this project, we attempted various procedures to study the data and find patterns that would help in identifying ways to model the data and classify instances. The best method that we were able to find was to try and convert the multi-class classification problem into a set of binary classification problems. We found that when the model was trained on  each independent target class while treating the other two class types as a single entity, the model showed better accuracy. For example, when the model was trained on classifying target class 1 while combining the other two class labels as \"not 1\", we were able to achieve and accuracy of 83%. However, this model can only learn how to classify class label 1. Similarly, we built binary classification models that were able to classify other combinations of class labels. So, we can conclude that a positive result from the project is that we were able to develop pretty accurate binary classification models that can predict class labels of one type seperately as either 'Class 1' or 'not Class 1' and 'Class 2' or 'not Class 2' and 'Class 3' or 'not Class 3'. However, the major caveat is that when we attempt to combine the binary classification models, the model accuracy drops down to 49%. This allows scope to research on how to effectively combine the binary models into a single model that has learned from its constituent models and can eventually make decent predictions on out-of-sample data. "
      ]
    },
    {
      "cell_type": "markdown",
      "metadata": {
        "id": "0O1fEYc20yFV"
      },
      "source": [
        "## **Data Sources**\n",
        "\n",
        "- Scikit-Learn Pipelines : https://medium.com/vickdata/a-simple-guide-to-scikit-learn-pipelines-4ac0d974bdcf \n",
        "\n",
        "- Outlier detection and treatment : https://towardsdatascience.com/ways-to-detect-and-remove-the-outliers-404d16608dba\n",
        "\n",
        "- PCA : https://builtin.com/data-science/step-step-explanation-principal-component-analysis \n",
        "\n",
        "- Notebook by Victoria Belotti (Blackboard) \n",
        "\n",
        "- Combining models using VotingClassifier : https://scikit-learn.org/stable/modules/generated/sklearn.ensemble.VotingClassifier.html#sklearn.ensemble.VotingClassifier \n",
        "\n"
      ]
    },
    {
      "cell_type": "markdown",
      "metadata": {
        "id": "m4dVoZU54By7"
      },
      "source": [
        "## **Source Code**\n",
        "\n",
        "- https://pandas.pydata.org/\n",
        "- http://scikit-learn.org/stable/modules/generated/sklearn.pipeline.Pipeline.html\n",
        "- https://scikit-learn.org/ \n",
        "- http://scikit-learn.org/stable/modules/ensemble.html\n",
        "- https://stackoverflow.com/questions/21506128/best-way-to-combine-probabilistic-classifiers-in-scikit-learn\n",
        "\n"
      ]
    },
    {
      "cell_type": "markdown",
      "metadata": {
        "id": "2EEho4sa6RFn"
      },
      "source": [
        "## **Bibliography**\n",
        "\n",
        "- *Anupama Jha, Meenu Dave, Supriya Madan*. \"Comparison of Binary Class and Multi-Class Classifier Using Different Data Mining Classification Techniques\", 2019, Proceedings of International Conference on Advancements in Computing & Management (ICACM) 2019 (https://papers.ssrn.com/sol3/papers.cfm?abstract_id=3464211) \n",
        "- *Salma Begum, Ramazan Aygun*. \"Greedy hierarchical binary classifiers for multi-class classification of biological data\", 2014, Network Modeling Analysis in Health Informatics and Bioinformatics. (https://www.researchgate.net/publication/271913431_Greedy_hierarchical_binary_classifiers_for_multi-class_classification_of_biological_data)\n",
        "- *Ana Carolina Lorena, Andréde Carvalho, João M. P. Gama*. \"A review on the combination of binary classifiers in multiclass problems\", Artificial Intelligence Review, 2009. (https://link.springer.com/article/10.1007/\n"
      ]
    },
    {
      "cell_type": "code",
      "metadata": {
        "id": "wKYWrxMd7Ki4"
      },
      "source": [
        ""
      ],
      "execution_count": null,
      "outputs": []
    }
  ]
}